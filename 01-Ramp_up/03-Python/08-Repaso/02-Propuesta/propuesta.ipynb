{
 "cells": [
  {
   "cell_type": "markdown",
   "metadata": {},
   "source": [
    "Dada la lista `[4,7, -3]`, calcula su máximo, mínimo y suma."
   ]
  },
  {
   "cell_type": "code",
   "execution_count": 21,
   "metadata": {},
   "outputs": [
    {
     "name": "stdout",
     "output_type": "stream",
     "text": [
      "-3\n",
      "7\n",
      "8\n",
      "<class 'dict_keys'>\n"
     ]
    }
   ],
   "source": [
    "lista = [4,7,-3]\n",
    "print(min(lista))\n",
    "print(max(lista))\n",
    "print(sum(lista))\n",
    "\n"
   ]
  },
  {
   "cell_type": "markdown",
   "metadata": {},
   "source": [
    "Pon la frase \"Born to be wild\" en mayúsculas, luego en minúsculas, divídela por espacios y, por último, sustituye \"wild\" por \"Geek\"."
   ]
  },
  {
   "cell_type": "code",
   "execution_count": null,
   "metadata": {},
   "outputs": [],
   "source": [
    "\"Born to be wild\".lower()\n",
    "\"Born to be wild\".upper()\n",
    "\"Born to be wild\".split()\n",
    "\"Born to be wild\".replace(\"wild\", \"Geek\")"
   ]
  },
  {
   "cell_type": "markdown",
   "metadata": {},
   "source": [
    "Crea un programa en el que se recojan dos entradas, y la salida del programa sea un booleano que indique al usuario si esas entradas son iguales o no."
   ]
  },
  {
   "cell_type": "code",
   "execution_count": null,
   "metadata": {},
   "outputs": [],
   "source": [
    "input1 = input(\"Ingresa un número\")\n",
    "input2 = input(\"Ingresa un número\")\n",
    "print(input1 == input2)\n"
   ]
  },
  {
   "cell_type": "markdown",
   "metadata": {},
   "source": [
    "Imprime los números entre 0 y 70 que son múltiplos de 3 y 5."
   ]
  },
  {
   "cell_type": "code",
   "execution_count": null,
   "metadata": {},
   "outputs": [],
   "source": [
    "for i in range(0,-22,-7):\n",
    "    print(i)"
   ]
  },
  {
   "cell_type": "code",
   "execution_count": null,
   "metadata": {},
   "outputs": [],
   "source": [
    "for i in range(-7,-22, -1):\n",
    "    print(i)"
   ]
  },
  {
   "cell_type": "markdown",
   "metadata": {},
   "source": [
    "Obtenga la primera y la segunda mejor puntuación de la lista.\n",
    "La lista contiene duplicados."
   ]
  },
  {
   "cell_type": "code",
   "execution_count": null,
   "metadata": {},
   "outputs": [],
   "source": [
    "scores = [86,86,85,85,85,83,23,45,84,1,2,0]\n",
    "set_scores = set(scores)\n",
    "print(set_scores)\n",
    "#l_scores = list(set_scores)\n",
    "l_scores = sorted(set_scores)\n",
    "print(l_scores[-1], l_scores[-2])\n",
    "print(l_scores[-2:])"
   ]
  },
  {
   "cell_type": "code",
   "execution_count": null,
   "metadata": {},
   "outputs": [],
   "source": [
    "print(set_scores)\n",
    "sorted(set_scores)"
   ]
  },
  {
   "cell_type": "code",
   "execution_count": null,
   "metadata": {},
   "outputs": [],
   "source": [
    "scores = [86,86,85,85,85,83,23,45,84,1,2,0]\n",
    "set_scores = set(scores)\n",
    "print(set_scores)\n",
    "l_scores = list(set_scores)\n",
    "max_scores = max(l_scores)\n",
    "l_scores.remove(max_scores)\n",
    "s_max_scores = max(l_scores)\n",
    "print(max_scores)\n",
    "print(s_max_scores)"
   ]
  },
  {
   "cell_type": "code",
   "execution_count": null,
   "metadata": {},
   "outputs": [],
   "source": []
  },
  {
   "cell_type": "markdown",
   "metadata": {},
   "source": []
  },
  {
   "cell_type": "code",
   "execution_count": null,
   "metadata": {},
   "outputs": [],
   "source": []
  },
  {
   "cell_type": "markdown",
   "metadata": {},
   "source": [
    " Haz una lista de diez alienígenas, cada uno de los cuales es de un color: 'rojo', 'verde' o 'azul'.\n",
    "    - Puedes acortarlo a 'r', 'g' y 'b' si quieres, pero si eliges esta opción tienes que incluir un comentario explicando qué significan r, g y b.\n",
    "    - Los alienígenas rojos valen 5 puntos, los verdes valen 10 puntos y los azules valen 20 puntos.\n",
    "    - Utilice un bucle for para determinar el número de puntos que ganaría un jugador por destruir todos los alienígenas de su lista."
   ]
  },
  {
   "cell_type": "code",
   "execution_count": null,
   "metadata": {},
   "outputs": [],
   "source": [
    "lista = [\"rojo\", \"verde\", \"rojo\", \"azul\", \"azul\", \"verde\", \"verde\", \"azul\", \"rojo\", \"azul\"]*10_000_000\n",
    "\n",
    "puntos = 0\n",
    "for alien in lista:\n",
    "    if alien == \"rojo\":\n",
    "        puntos = puntos + 5 # puntos += 5\n",
    "    elif alien == \"verde\":\n",
    "        puntos = puntos + 10\n",
    "    else:\n",
    "        puntos = puntos + 20\n",
    "\n",
    "\n",
    "\n",
    "\n"
   ]
  },
  {
   "cell_type": "code",
   "execution_count": null,
   "metadata": {},
   "outputs": [],
   "source": [
    "lista = [\"rojo\", \"verde\", \"rojo\", \"azul\", \"azul\", \"verde\", \"verde\", \"azul\", \"rojo\", \"azul\"]*10_000_000\n",
    "\n",
    "puntos = 0\n",
    "\n",
    "rojos = 5*lista.count(\"rojo\")\n",
    "verde = 10*lista.count(\"verde\")\n",
    "azul = 20*lista.count(\"azul\")\n",
    "puntos = rojos + verde + azul\n",
    "print(puntos)"
   ]
  },
  {
   "cell_type": "markdown",
   "metadata": {},
   "source": [
    "Crea un programa que calcule la media.\n",
    "\n",
    "El programa pedirá al usuario que especifique cuántos números quiere introducir, y mostrará un aviso para incluir número a número a una lista, y luego calculará la media de esa lista."
   ]
  },
  {
   "cell_type": "code",
   "execution_count": null,
   "metadata": {},
   "outputs": [],
   "source": [
    "aviso1 = int(input(\"Introduzca de cuántos números quieres hacer la media\"))\n",
    "\n",
    "lista_num = []\n",
    "for i in range(aviso1):\n",
    "    msg = \"Introduzca número \" + str(i+1)\n",
    "    num = float(input(msg))\n",
    "    lista_num.append(num)\n",
    "\n",
    "print(sum(lista_num)/aviso1)\n",
    "\n",
    "print(sum(lista_num)/len(lista_num))\n"
   ]
  },
  {
   "cell_type": "code",
   "execution_count": null,
   "metadata": {},
   "outputs": [],
   "source": [
    "\n",
    "print(sum(lista_num)/aviso1)\n",
    "\n",
    "print(sum(lista_num)/len(lista_num))"
   ]
  },
  {
   "cell_type": "code",
   "execution_count": null,
   "metadata": {},
   "outputs": [],
   "source": [
    "len(5)"
   ]
  },
  {
   "cell_type": "markdown",
   "metadata": {},
   "source": [
    "Haga lo que se describe a continuación:\n",
    "\n",
    "- Crea una variable llamada fuerza, y fija su valor inicial en 5.\n",
    "\n",
    "- Imprime un mensaje informando de la fuerza del jugador.\n",
    "\n",
    "- Establece un bucle while que se ejecute hasta que la fuerza del jugador aumente hasta un valor como 10.\n",
    "\n",
    "- Dentro del bucle while, imprime un mensaje que informe de la fuerza actual del jugador.\n",
    "\n",
    "- Dentro del bucle while, escribe una sentencia que incremente la fuerza del jugador.\n",
    "\n",
    "- Fuera del bucle while, imprime un mensaje informando de que el jugador se ha hecho demasiado fuerte, y que ha pasado a un nuevo nivel del juego.\n",
    "\n",
    "Juega con diferentes niveles de corte para el valor de la fuerza, y juega con diferentes maneras de aumentar el valor de la fuerza dentro del bucle while."
   ]
  },
  {
   "cell_type": "code",
   "execution_count": null,
   "metadata": {},
   "outputs": [],
   "source": [
    "fuerza = 5\n",
    "print(\"La fuerza del jugardor\", fuerza)\n",
    "while fuerza < 10:\n",
    "    fuerza += 1  #fuerza = fuerza + 1 \n",
    "    print(\"Tu fuerza es de\", fuerza)\n",
    "print(\"El jugador alcazó un nuevo nivel. Eres demasiado fuerte\")"
   ]
  },
  {
   "cell_type": "code",
   "execution_count": null,
   "metadata": {},
   "outputs": [],
   "source": [
    "dni = \"0123456789\"\n",
    "\n",
    "if type(dni) != str:\n",
    "    print(\"No es una cadena\")\n",
    "if len(dni) > 9:\n",
    "    print(\"Es demasiado largo\")\n",
    "if len(dni) < 9:\n",
    "    print(\"Es demasiado corto\")\n",
    "if dni[9].isnumeric() == True: ## dni[-1].isalpha() == False\n",
    "    print(\"No termina en letra\")\n"
   ]
  },
  {
   "cell_type": "code",
   "execution_count": null,
   "metadata": {},
   "outputs": [],
   "source": [
    "fuerza = 5\n",
    "print(\"La fuerza del jugardor\", fuerza)\n",
    "while fuerza < 10:\n",
    "    fuerza += 1  #fuerza = fuerza + 1 \n",
    "  "
   ]
  },
  {
   "cell_type": "code",
   "execution_count": null,
   "metadata": {},
   "outputs": [],
   "source": [
    "fuerza = 5\n",
    "print(\"La fuerza del jugardor\", fuerza)\n",
    "while fuerza <= 10:\n",
    "    fuerza += 1  #fuerza = fuerza + 1 \n",
    "    print(\"Tu fuerza es de\", fuerza)"
   ]
  },
  {
   "cell_type": "code",
   "execution_count": null,
   "metadata": {},
   "outputs": [],
   "source": [
    "fuerza = 5\n",
    "print(\"La fuerza del jugardor\", fuerza)\n",
    "while fuerza <= 10:\n",
    "    print(\"Tu fuerza es de\", fuerza)\n",
    "    fuerza += 1  #fuerza = fuerza + 1 "
   ]
  },
  {
   "cell_type": "markdown",
   "metadata": {},
   "source": [
    "\n",
    "Escribe una función que pida un entero e imprima el cuadrado del mismo. Sigue comprobando hasta que la función obtiene un entero.\n",
    "\n"
   ]
  },
  {
   "cell_type": "code",
   "execution_count": null,
   "metadata": {},
   "outputs": [],
   "source": [
    "# Version 1\n",
    "def cuadrado(i):\n",
    "    print(i**2)\n",
    "\n",
    "entero =  3.2\n",
    "while (type(entero) != int):\n",
    "    try:\n",
    "        entero = int(input(\"introduzca un entero\"))\n",
    "        cuadrado(entero)\n",
    "    except:\n",
    "        print(\"No es un número\")\n",
    "        \n",
    "\n"
   ]
  },
  {
   "cell_type": "code",
   "execution_count": null,
   "metadata": {},
   "outputs": [],
   "source": [
    "# Version 2\n",
    "def cuadrado(i):\n",
    "    print(i**2)\n",
    "\n",
    "es_entero =  False\n",
    "while (es_entero == False):\n",
    "    try:\n",
    "\n",
    "        entero = int(input(\"introduzca un entero\"))\n",
    "        es_entero = True\n",
    "        cuadrado(entero)\n",
    "\n",
    "    except:\n",
    "        print(\"No es un número\")\n",
    "        continue\n",
    "    print(entero+1)    \n"
   ]
  },
  {
   "cell_type": "code",
   "execution_count": null,
   "metadata": {},
   "outputs": [],
   "source": [
    "# Version 3\n",
    "def cuadrado(i):\n",
    "    print(i**2)\n",
    "\n",
    "while (True):\n",
    "    try:\n",
    "\n",
    "        entero = int(input(\"introduzca un entero\"))\n",
    "        cuadrado(entero)\n",
    "        break\n",
    "\n",
    "    except:\n",
    "        print(\"No es un número\")\n"
   ]
  },
  {
   "cell_type": "code",
   "execution_count": null,
   "metadata": {},
   "outputs": [],
   "source": [
    "# Version 4. Just for fun. No es adecuada ni es necesario conocer\n",
    "def cuadrado(i):\n",
    "    print(i**2)\n",
    "lista = [1]\n",
    "for i in lista:\n",
    "    try:\n",
    "\n",
    "        entero = int(input(\"introduzca un entero\"))\n",
    "        cuadrado(entero)\n",
    "        break\n",
    "\n",
    "    except:\n",
    "        lista.append(1)\n",
    "        print(\"No es un número\")"
   ]
  },
  {
   "cell_type": "code",
   "execution_count": null,
   "metadata": {},
   "outputs": [],
   "source": [
    "# Version 5. Just for fun. No es adecuada ni es necesario conocer\n",
    "def cuadrado():\n",
    "    try: \n",
    "        entero = int(input(\"introduzca un entero\"))\n",
    "        print(entero**2)\n",
    "    except: \n",
    "        cuadrado()\n",
    "cuadrado()"
   ]
  },
  {
   "cell_type": "markdown",
   "metadata": {},
   "source": [
    "Practice_10_OOP Ejercicio 1"
   ]
  },
  {
   "cell_type": "code",
   "execution_count": null,
   "metadata": {},
   "outputs": [],
   "source": [
    "# Para terminar, todo junto, un ejercicio COMPLEJO:\n",
    "# Escribe un programa que:\n",
    "# Pida al usuario un número entero por pantalla y continua insistiendo hasta que \n",
    "# introduce un número entero correcto\n",
    "# Si no introduce un número entero, debes imprimir un mensaje de error y volver \n",
    "# a pedir otro número entero al usuario\n",
    "# Si introduce un número distinto de 2, imprimir: \"Tu número favorito es X\", siendo X el número elegido \n",
    "# Si introduce el número 2, escribir \"El 2 también es mi numero favorito\"\n",
    "\n",
    "# Cronométrate y envíame lo que tengas tras 30 minutos intentándolo \n",
    "# Si me lo envías tras 1 hora itentandolo nunca lo sabré, me engañas a mi pero sobre todo te engañas a ti mismo\n",
    "\n",
    "# Tras 30 minutos puedes seguir inténtandolo "
   ]
  },
  {
   "cell_type": "code",
   "execution_count": null,
   "metadata": {},
   "outputs": [],
   "source": [
    "while (True):\n",
    "    try:\n",
    "        numero = int(input(\"introduce un número entero por pantalla\"))\n",
    "    except:\n",
    "        print(\"NO has introducido un entero\")\n",
    "        continue\n",
    "    if numero != 2:\n",
    "        print(\"Tú numero favorito es\", numero)\n",
    "    else:\n",
    "        print(f'El {numero} también es mi numero favorito')\n",
    "    break\n"
   ]
  },
  {
   "cell_type": "code",
   "execution_count": null,
   "metadata": {},
   "outputs": [],
   "source": [
    "condicion = True\n",
    "while (condicion == True):\n",
    "    try:\n",
    "        numero = int(input(\"introduce un número entero por pantalla\"))\n",
    "    except:\n",
    "        print(\"NO has introducido un entero\")\n",
    "        continue\n",
    "    if numero != 2:\n",
    "        print(\"Tú numero favorito es\", numero)\n",
    "    else:\n",
    "        print(f'El {numero} también es mi numero favorito')\n",
    "    condicion = False\n"
   ]
  },
  {
   "cell_type": "code",
   "execution_count": null,
   "metadata": {},
   "outputs": [],
   "source": [
    "# Un último de sucesiones\n",
    "# Piensa en el ejemplo de Fibonacci\n",
    "#Las sucesiones pueden ser muy flexibles: partiendo de la lista = [5,7], \n",
    "# intenta generar la sucesión que usa la media de los dos números previos y suma uno al resultado\n",
    "# Sigue pensando en Fibonacci! "
   ]
  },
  {
   "cell_type": "code",
   "execution_count": null,
   "metadata": {},
   "outputs": [],
   "source": [
    "def fibo_sucesion(lista, rango):\n",
    "    for i in range(rango+1):\n",
    "        nuevo = (lista[-2]+lista[-1])/2 + 1 \n",
    "        lista.append(nuevo)\n",
    "    return lista\n",
    "\n",
    "l = [5,7]\n",
    "total = 30\n",
    "resultado = fibo_sucesion(l.copy(), total)\n"
   ]
  },
  {
   "cell_type": "code",
   "execution_count": null,
   "metadata": {},
   "outputs": [],
   "source": [
    "def fibo_sucesion(lista, rango):\n",
    "    for _ in range(rango+1):\n",
    "        nuevo = (lista[-2]+lista[-1])/2 + 1 \n",
    "        lista.append(nuevo)\n",
    "    return lista\n",
    "\n",
    "l = [5,7]\n",
    "total = 30\n",
    "resultado = fibo_sucesion(l.copy(), total)"
   ]
  },
  {
   "cell_type": "code",
   "execution_count": null,
   "metadata": {},
   "outputs": [],
   "source": [
    "print(resultado)"
   ]
  },
  {
   "cell_type": "code",
   "execution_count": null,
   "metadata": {},
   "outputs": [],
   "source": [
    "print(l)"
   ]
  },
  {
   "cell_type": "code",
   "execution_count": null,
   "metadata": {},
   "outputs": [],
   "source": [
    "def fibo_sucesion(lista, n):\n",
    "    for i in lista:\n",
    "        if len(lista) == n:\n",
    "            break\n",
    "        nuevo = (lista[-2]+lista[-1])/2 + 1 \n",
    "        lista.append(nuevo)\n",
    "    return lista\n",
    "\n",
    "l = [5,7]\n",
    "total = 30\n",
    "resultado = fibo_sucesion(l.copy(), total)\n"
   ]
  },
  {
   "cell_type": "code",
   "execution_count": null,
   "metadata": {},
   "outputs": [],
   "source": [
    "print(resultado)"
   ]
  },
  {
   "cell_type": "code",
   "execution_count": null,
   "metadata": {},
   "outputs": [],
   "source": []
  },
  {
   "cell_type": "markdown",
   "metadata": {},
   "source": [
    "Escribe un programa en Python que genere una lista cuyos valores sean cuadrados de números entre 1 y 30 (ambos incluidos), y devuelva una lista con los 5 primeros y últimos elementos de la lista."
   ]
  },
  {
   "cell_type": "code",
   "execution_count": null,
   "metadata": {},
   "outputs": [],
   "source": [
    "lista_nums = []\n",
    "for i in range(1,31):\n",
    "    lista_nums.append(i**2)\n",
    "\n",
    "lista_5 = lista_nums[0:5] + lista_nums[-5:]\n",
    " \n"
   ]
  },
  {
   "cell_type": "code",
   "execution_count": null,
   "metadata": {},
   "outputs": [],
   "source": [
    "print(lista_5)"
   ]
  },
  {
   "cell_type": "code",
   "execution_count": null,
   "metadata": {},
   "outputs": [],
   "source": [
    "lista_ = lista_nums[0:5] + lista_nums[:-5]"
   ]
  },
  {
   "cell_type": "code",
   "execution_count": null,
   "metadata": {},
   "outputs": [],
   "source": [
    "print(lista_)"
   ]
  },
  {
   "cell_type": "code",
   "execution_count": null,
   "metadata": {},
   "outputs": [],
   "source": [
    "def funcion_cuadrados():\n",
    "    lista_nums = []\n",
    "    for i in range(1,31):\n",
    "        lista_nums.append(i**2)\n",
    "\n",
    "    lista_5 = lista_nums[0:5] + lista_nums[-5:]\n",
    "    return lista_5\n",
    "\n"
   ]
  },
  {
   "cell_type": "code",
   "execution_count": null,
   "metadata": {},
   "outputs": [],
   "source": [
    "lista_nums = [x**2 for x in range(1,31)]\n",
    "lista_5_mims = lista_nums[0:5] + lista_nums[-5:]"
   ]
  },
  {
   "cell_type": "markdown",
   "metadata": {},
   "source": [
    "Escribe un programa que cuente cuantos objetos hay de cada tipo en está lista:\n"
   ]
  },
  {
   "cell_type": "code",
   "execution_count": null,
   "metadata": {},
   "outputs": [],
   "source": [
    "lista = [1, True, 2.3, ['a', 'b'], 'hola', False, False, (2,3,5), 2, 3,5, [2,3,5], \"2,3,5\", \"[2,3,5]\"]"
   ]
  },
  {
   "cell_type": "code",
   "execution_count": null,
   "metadata": {},
   "outputs": [],
   "source": [
    "dict_tipos = {}\n",
    "for l in lista:\n",
    "    if type(l) in dict_tipos.keys():\n",
    "        dict_tipos[type(l)] += 1\n",
    "    else:\n",
    "        dict_tipos[type(l)] = 1          "
   ]
  },
  {
   "cell_type": "code",
   "execution_count": null,
   "metadata": {},
   "outputs": [],
   "source": [
    "dict_tipos"
   ]
  },
  {
   "cell_type": "markdown",
   "metadata": {},
   "source": [
    "### Con lista y con diccionario fruta/color\n",
    "\n",
    "La siguiente lista contiene algunas frutas:\n",
    "    \n",
    "`fruits = ['banana', 'orange', 'mango', 'lemon']`\n",
    "\n",
    "Si una fruta no existe en la lista añade la fruta a la lista e imprime la lista modificada. Si la fruta existe print('Esa fruta ya existe en la lista')"
   ]
  },
  {
   "cell_type": "code",
   "execution_count": null,
   "metadata": {},
   "outputs": [],
   "source": [
    "fruits = ['banana', 'orange', 'mango', 'lemon']\n",
    "fruta = input(\"Dime una fruta\")\n",
    "if fruta in fruits:\n",
    "    print('Esa fruta ya existe en la lista')\n",
    "else:\n",
    "    fruits.append(fruta)\n",
    "    print(fruits)"
   ]
  },
  {
   "cell_type": "code",
   "execution_count": null,
   "metadata": {},
   "outputs": [],
   "source": [
    "fruits = ['banana', 'orange', 'mango', 'lemon']\n",
    "fruta = input(\"Dime una fruta\")\n",
    "\n",
    "if fruta in fruits:\n",
    "    print('Esa fruta ya existe en la lista')\n",
    "else:\n",
    "    try:\n",
    "        posicion = int(input(\"En que posición quieres que vaya\"))\n",
    "        fruits.insert(posicion,fruta)\n",
    "    except:\n",
    "        fruits.append(fruta)\n",
    "    print(fruits)\n",
    "\n",
    "\n"
   ]
  },
  {
   "cell_type": "markdown",
   "metadata": {},
   "source": [
    "De la lista dada:\n",
    "    \n",
    "    a) Crea listas separadas de cadenas y números.\n",
    "\n",
    "    b) Ordena la lista de cadenas en orden ascendente.\n",
    "\n",
    "    c) Ordena la lista de cadenas en orden descendente\n",
    "\n",
    "    d) Ordenar la lista de números de menor a mayor\n",
    "\n",
    "    e) Ordenar la lista de números de mayor a menor"
   ]
  },
  {
   "cell_type": "code",
   "execution_count": null,
   "metadata": {},
   "outputs": [],
   "source": [
    "gadgets = [\"Mobile\", \"Laptop\", 100, \"Camera\", 310.28, \"Speakers\", 27.00, \n",
    "           \"Television\", 1000, \"Laptop Case\", \"Camera Lens\"]\n",
    "lista_str = []\n",
    "lista_num = []\n",
    "for i in gadgets:\n",
    "    if type(i) == int or type(i) == float:\n",
    "       lista_num.append(i)\n",
    "    else:\n",
    "        lista_str.append(i) \n"
   ]
  },
  {
   "cell_type": "code",
   "execution_count": null,
   "metadata": {},
   "outputs": [],
   "source": [
    "gadgets = [\"Mobile\", \"Laptop\", 100, \"Camera\", 310.28, \"Speakers\", 27.00, \n",
    "           \"Television\", 1000, \"Laptop Case\", \"Camera Lens\"]\n",
    "lista_str = []\n",
    "lista_num = []\n",
    "for i in gadgets:\n",
    "    if type(i) == str:\n",
    "       lista_str.append(i)\n",
    "    else:\n",
    "        lista_num.append(i) "
   ]
  },
  {
   "cell_type": "code",
   "execution_count": null,
   "metadata": {},
   "outputs": [],
   "source": [
    "gadgets = [\"Mobile\", \"Laptop\", 100, \"Camera\", 310.28, \"Speakers\", 27.00, \n",
    "           \"Television\", 1000, \"Laptop Case\", \"Camera Lens\"]\n",
    "lista_str = []\n",
    "lista_num = []\n",
    "for i in gadgets:\n",
    "    if type(i) != str:\n",
    "       lista_num.append(i)\n",
    "    else:\n",
    "        lista_str.append(i) "
   ]
  },
  {
   "cell_type": "code",
   "execution_count": null,
   "metadata": {},
   "outputs": [],
   "source": [
    "print(lista_num)\n",
    "print(lista_str)\n",
    "lista_str_2 = lista_str.copy()"
   ]
  },
  {
   "cell_type": "code",
   "execution_count": null,
   "metadata": {},
   "outputs": [],
   "source": [
    "lista_str = sorted(lista_str, reverse = False)\n",
    "print(lista_str)"
   ]
  },
  {
   "cell_type": "code",
   "execution_count": null,
   "metadata": {},
   "outputs": [],
   "source": [
    "lista_str.sort()\n",
    "print(lista_str)"
   ]
  },
  {
   "cell_type": "code",
   "execution_count": null,
   "metadata": {},
   "outputs": [],
   "source": [
    "lista_num.sort()\n",
    "print(lista_num)"
   ]
  },
  {
   "cell_type": "code",
   "execution_count": null,
   "metadata": {},
   "outputs": [],
   "source": [
    "lista_num.sort(reverse=True)\n",
    "print(lista_num)"
   ]
  },
  {
   "cell_type": "markdown",
   "metadata": {},
   "source": [
    "Una empresa va a abrir un banco, diseñemos la clase usuario\n",
    "\n",
    "Debes incluir lo siguiente:\n",
    "\n",
    "**Un método de retirada**\n",
    "- Resta dinero del saldo\n",
    "- Un parámetro, dinero a retirar\n",
    "- Imprime un mensaje de error por pantalla si no hay saldo para retirar\n",
    "- Devuelve una cadena con nombre y saldo\n",
    "\n",
    "**Un método add_cash**\n",
    "- Añade dinero al saldo\n",
    "- Un parámetro, dinero a añadir\n",
    "- Devuelve una cadena con nombre y saldo\n",
    "\n",
    "**Un método historial**\n",
    "- LLeva la cuenta de cuantas retiradas ya add_cash se han producido\n",
    "- Registra toda operación realizada por el usuario: tipo de operación (add_cash, retirada) y el saldo antes y después de la operación \n",
    "\n",
    "**Método comisiones**\n",
    "- Resta 10 euros del saldo al cliente\n",
    "\n",
    "\n",
    "**Notas adicionales:**\n",
    "\n",
    "- Todos los usuarios tienen nombre, apellidos y un número de cuenta que siempre será distinto\n",
    "- Ningún número de entrada será negativo\n",
    "\n"
   ]
  },
  {
   "cell_type": "code",
   "execution_count": null,
   "metadata": {},
   "outputs": [],
   "source": [
    "class Usuario():\n",
    "\n",
    " \n",
    "    def __init__(self, nombre, apellido1, apellido2, n_cuenta, saldo = 0):\n",
    "\n",
    "        self.nombre = nombre\n",
    "        self.primer_apellido = apellido1\n",
    "        self.segundo_apellido = apellido2\n",
    "        self.num_cuenta = n_cuenta\n",
    "        self.saldo = saldo\n",
    "        self.registro = []\n",
    "      \n",
    "\n",
    "    def retirada(self, dinero):\n",
    "        self.historial( -dinero)\n",
    "        if dinero > self.saldo:\n",
    "            return \"La cantidad a retirar es mayor que el saldo\"\n",
    "        else:\n",
    "            self.saldo -= dinero # self.saldo = self.saldo - dinero\n",
    "            return f'{self.nombre}:{self.saldo}' # self.nombre + \":\" + self.saldo\n",
    "        \n",
    "    def add_cash(self, dinero):\n",
    "        self.historial(dinero)\n",
    "        self.saldo += dinero #self.saldo = self.saldo + dinero\n",
    "        return f'{self.nombre}:{self.saldo}' # self.nombre + \":\" + self.saldo\n",
    "    \n",
    "    def comisiones(self):\n",
    "        self.historial( -10)\n",
    "        self.saldo = self.saldo - 10\n",
    "\n",
    "    def historial(self, dinero):\n",
    "        \n",
    "        if dinero >= 0:\n",
    "            tipo = \"add_cash\"\n",
    "        else:\n",
    "            tipo = \"retirada\"\n",
    "        oper = {\"saldo_antes\": self.saldo , \"saldo_despues\": self.saldo + dinero, \"tipo\": tipo}\n",
    "        self.registro.append(oper)        \n",
    "        \n",
    "\n",
    "\n",
    "        \n",
    "    "
   ]
  },
  {
   "cell_type": "code",
   "execution_count": null,
   "metadata": {},
   "outputs": [],
   "source": [
    "class Usuario():\n",
    "\n",
    " \n",
    "    def __init__(self, nombre, apellido1, apellido2, n_cuenta, saldo = 0):\n",
    "\n",
    "        self.nombre = nombre\n",
    "        self.primer_apellido = apellido1\n",
    "        self.segundo_apellido = apellido2\n",
    "        self.num_cuenta = n_cuenta\n",
    "        self.saldo = saldo\n",
    "        self.registro = []\n",
    "      \n",
    "\n",
    "    def retirada(self, dinero):\n",
    "        saldo_antes = self.saldo\n",
    "        if dinero > self.saldo:\n",
    "            return \"La cantidad a retirar es mayor que el saldo\"\n",
    "        else:\n",
    "            self.saldo -= dinero # self.saldo = self.saldo - dinero\n",
    "            saldo_despues = self.saldo\n",
    "            self.historial(\"retirada\", saldo_antes, saldo_despues)\n",
    "            return f'{self.nombre}:{self.saldo}' # self.nombre + \":\" + self.saldo\n",
    "        \n",
    "    def add_cash(self, dinero):\n",
    "        saldo_antes = self.saldo\n",
    "    \n",
    "        self.saldo += dinero #self.saldo = self.saldo + dinero\n",
    "        saldo_despues = self.saldo\n",
    "        self.historial(\"add_cash\", saldo_antes, saldo_despues)\n",
    "        return f'{self.nombre}:{self.saldo}' # self.nombre + \":\" + self.saldo\n",
    "    \n",
    "    def comisiones(self):\n",
    "        saldo_antes = self.saldo\n",
    "        self.saldo = self.saldo - 10\n",
    "        saldo_despues = self.saldo\n",
    "        self.historial(\"comisiones\", saldo_antes, saldo_despues)\n",
    "\n",
    "    def historial(self, operation, saldo_antes, saldo_despues):\n",
    "        new_oper = {\"saldo_antes\": saldo_antes , \"saldo_despues\": saldo_despues, \"tipo\": operation}\n",
    "        self.registro.append(new_oper)        \n",
    "        \n",
    "\n",
    "        \n",
    "           \n",
    "        "
   ]
  },
  {
   "cell_type": "code",
   "execution_count": null,
   "metadata": {},
   "outputs": [],
   "source": [
    "class Usuario():\n",
    "\n",
    " \n",
    "    def __init__(self, nombre, apellido1, apellido2, n_cuenta, saldo = 0):\n",
    "\n",
    "        self.nombre = nombre\n",
    "        self.primer_apellido = apellido1\n",
    "        self.segundo_apellido = apellido2\n",
    "        self.num_cuenta = n_cuenta\n",
    "        self.saldo = saldo\n",
    "        self.registro = []\n",
    "      \n",
    "\n",
    "    def retirada(self, dinero):\n",
    "        saldo_antes = self.saldo\n",
    "        if dinero > self.saldo:\n",
    "            return \"La cantidad a retirar es mayor que el saldo\"\n",
    "        else:\n",
    "            self.saldo -= dinero # self.saldo = self.saldo - dinero\n",
    "            saldo_despues = self.saldo\n",
    "            self.registro.append({\"saldo_antes\": saldo_antes , \"saldo_despues\": saldo_despues, \"tipo\": \"retirada\"})\n",
    "            return f'{self.nombre}:{self.saldo}' # self.nombre + \":\" + self.saldo\n",
    "        \n",
    "    def add_cash(self, dinero):\n",
    "        saldo_antes = self.saldo\n",
    "        self.saldo += dinero #self.saldo = self.saldo + dinero\n",
    "        saldo_despues = self.saldo\n",
    "        self.registro.append({\"saldo_antes\": saldo_antes , \"saldo_despues\": saldo_despues, \"tipo\": \"add_cash\"})\n",
    "        return f'{self.nombre}:{self.saldo}' # self.nombre + \":\" + self.saldo\n",
    "    \n",
    "    def comisiones(self):\n",
    "        saldo_antes = self.saldo\n",
    "        self.saldo = self.saldo - 10\n",
    "        saldo_despues = self.saldo\n",
    "        self.registro.append({\"saldo_antes\": saldo_antes , \"saldo_despues\": saldo_despues, \"tipo\": \"comisiones\"})\n",
    "     \n",
    "\n",
    "    "
   ]
  },
  {
   "cell_type": "code",
   "execution_count": null,
   "metadata": {},
   "outputs": [],
   "source": [
    "user1 = Usuario(\"Jon\", \"Doe\", \"Smith\", 123)\n",
    "user1.add_cash(25)"
   ]
  },
  {
   "cell_type": "code",
   "execution_count": null,
   "metadata": {},
   "outputs": [],
   "source": [
    "user1.registro"
   ]
  },
  {
   "cell_type": "markdown",
   "metadata": {},
   "source": [
    "Ahora la clase Banco:\n",
    "\n",
    "**Método añadir cliente**\n",
    "Añade un nuevo cliente al banco. (lista, diccionario, tupla?)\n",
    "No pueden existir dos números de cuenta iguales: se sobreescribe dicho cliente\n",
    "\n",
    "**Método eliminar cliente**\n",
    "Se elimina un cliente si existe. \n",
    "Si no existe imprimer mensaje de que no existe dicho cliente\n",
    "\n",
    "**Saldo total del banco**\n",
    "Devuelve la totalidad del saldo sumado para todos los clientes\n",
    "\n",
    "**Metodo fin de mes**\n",
    "Cobra la comisión mensual a los clientes\n",
    "Calcula las comisiones totales cobradas\n",
    "Calcula el saldo total de los clientes del banco tras el pago de comisiones\n"
   ]
  },
  {
   "cell_type": "code",
   "execution_count": null,
   "metadata": {},
   "outputs": [],
   "source": [
    "class Banco:\n",
    "    def __init__(self):\n",
    "        self.dicc_clientes = {}\n",
    "\n",
    "    def añadir_clientes(self, usuario):\n",
    "        self.dicc_clientes[usuario.num_cuenta] = usuario # Si existe se va a sobreescribit, si no, lo va a crear de cero\n",
    "\n",
    "    def eliminar_cliente(self, usuario):\n",
    "        if usuario.num_cuenta in self.dicc_clientes.keys():\n",
    "            self.dicc_clientes.pop(usuario.num_cuenta)\n",
    "        else:\n",
    "            print(\"No existe dicho cliente\")\n",
    "\n",
    "    def saldo_total(self):\n",
    "        saldo = 0\n",
    "        for c in self.dicc_clientes.keys():\n",
    "            saldo += self.dicc_clientes[c].saldo\n",
    "        return saldo\n",
    "    \n",
    "    def fin_mes(self):\n",
    "        for c in self.dicc_clientes.keys():\n",
    "            self.dicc_clientes[c].comisiones()\n",
    "\n",
    "banco = Banco()\n",
    "banco.añadir_clientes(user1)\n",
    "print(banco.dicc_clientes)"
   ]
  },
  {
   "cell_type": "code",
   "execution_count": null,
   "metadata": {},
   "outputs": [],
   "source": [
    "# Crea un programa que pida al usuario números para calcular la raíz cuadrada de los mismos. \n",
    "#Captura la excepción de que haya introducido un número negativo \n",
    "# y haz que calcule la raíz cuadrada del valor absoluto en esa situación\n",
    "# El programa continua pidiendo al usuario números y \n",
    "#calculando la raíz hasta que el usuario introduzce el número 0, en cuyo caso, termina el programa.\n",
    "\n",
    "from math import fabs, sqrt\n",
    "\n",
    "def cuadrados():\n",
    "    while True:\n",
    "        decision = int(input(\"Introduce un numero para calcular su raiz\"))\n",
    "        if decision > 0:\n",
    "            resultado = sqrt(decision)\n",
    "            print(f\"La raiz cuadrada de {decision} es: {resultado}\")\n",
    "        elif decision < 0:\n",
    "            resultado = sqrt(fabs(decision))\n",
    "            print(f\"La raiz cuadrada de su numero negativo {decision} en valor absoluto es: {resultado}\")\n",
    "        else:\n",
    "            print(\"Termina el programa\")\n",
    "            break\n",
    "\n",
    "cuadrados()\n",
    "\n",
    "# forma de jonathan\n",
    "def cuadrados_jonathan():\n",
    "    while True:\n",
    "        try:\n",
    "            num = input(\"Dime un numero para calcular una raiz\")\n",
    "            if num == '0':\n",
    "                break\n",
    "            print(sqrt(int(num)))\n",
    "        except:\n",
    "            print(sqrt(fabs(int(num))))"
   ]
  },
  {
   "cell_type": "code",
   "execution_count": null,
   "metadata": {},
   "outputs": [],
   "source": []
  },
  {
   "cell_type": "code",
   "execution_count": null,
   "metadata": {},
   "outputs": [],
   "source": [
    "# Escribe un programa que pida palabras al usuario. \n",
    "# Si la palabra está en la frase \"La lluvia en Sevilla es una maravilla\", imprimirá \"Es un acierto\" \n",
    "# Si la palabra no está en dicha frase, imprimirá \"Es un fallo\" y restará una vida\n",
    "# El número total de vidas es 4\n",
    "# EL programa no es sensible a mayúsculas ni minúsuclas\n",
    "def juego():\n",
    "    frase = \"La lluvia en Sevilla es una maravilla\"\n",
    "    lista_frase = frase.lower().split()\n",
    "    vidas = 4\n",
    "    while vidas > 0 and len(lista_frase) > 0:\n",
    "        decision = input(\"Introduzca una palabra: \").lower()\n",
    "        if decision in lista_frase:\n",
    "            print(\"Es un acierto\")\n",
    "            lista_frase.remove(decision)\n",
    "        else:\n",
    "            print(\"Es un fallo\")\n",
    "            vidas -= 1\n",
    "\n",
    "juego()"
   ]
  },
  {
   "cell_type": "code",
   "execution_count": 20,
   "metadata": {},
   "outputs": [
    {
     "name": "stdout",
     "output_type": "stream",
     "text": [
      "lkhjjjjjjjjjjjjjjj,nhgdfdndg\n"
     ]
    }
   ],
   "source": [
    "# Escribe un programa que cuente cual es la palabra de mayor longitud en la frase \n",
    "# \"La lluvia en Sevilla es una maravilla\"\n",
    "def mayor_len(oracion):\n",
    "    maximo = 0\n",
    "    lista_palabras = oracion.split()\n",
    "    for i in lista_palabras:\n",
    "        if len(i) > maximo:\n",
    "            maxima = i\n",
    "            maximo = len(i)\n",
    "    return maxima\n",
    "\n",
    "\n",
    "print(mayor_len(\"La lluvia en Sevilla es una maravilla\"))"
   ]
  },
  {
   "cell_type": "markdown",
   "metadata": {},
   "source": [
    "Dada una lista con 3 números del 1 al 20, escribe un programar que pida al usuario 5 números del 1 al 20 y lleve la cuenta del total de aciertos y fallos y los números introducidos.\n",
    "Si se aciertan los 3 números antes de finalizar las 5 rondas el programa debe parar\n",
    "Si no se han acertado los 3 números, al final deben imprimirse los números que no fueron acertados.\n"
   ]
  },
  {
   "cell_type": "code",
   "execution_count": null,
   "metadata": {},
   "outputs": [],
   "source": [
    "lista_aletoria = [3, 8, 16]\n",
    "\n",
    "acierto = 0\n",
    "fallo = 0\n",
    "numeros_introducidos = []\n",
    "for i in range(5):\n",
    "\n",
    "    num = int(input(\"Introduce un número del 1 al 20\"))\n",
    "\n",
    "    if num in lista_aletoria:\n",
    "        acierto = acierto + 1\n",
    "    else:\n",
    "        fallo = fallo + 1\n",
    "    numeros_introducidos.append(num)\n",
    "    if acierto == 3:\n",
    "        print(\"Has ganado\")\n",
    "        break\n",
    "\n",
    "print(set(lista_aletoria) - set(numeros_introducidos))\n",
    "    \n"
   ]
  },
  {
   "cell_type": "code",
   "execution_count": null,
   "metadata": {},
   "outputs": [],
   "source": [
    "[x for x in lista_aletoria if x not in numeros_introducidos]"
   ]
  },
  {
   "cell_type": "markdown",
   "metadata": {},
   "source": [
    "Los ejercicios hechos sin OOP, usar OOP y los de OOP, pasar a funciones"
   ]
  },
  {
   "cell_type": "markdown",
   "metadata": {},
   "source": [
    "# Ramp up 2022"
   ]
  },
  {
   "cell_type": "markdown",
   "metadata": {},
   "source": [
    "### Ejercicio 1\n",
    "En este ejercicio se va a crear una lista con los siguientes elementos. Primero, crearemos las variables que luego añadiremos a la lista. Las variables son las siguientes:\n",
    "\n",
    "1. Crea una variable llamada `num_dni` de tipo Integer que represente el primer número de tu DNI. \n",
    "2. Crea una variable llamada `let_dni` de tipo String y que represente la letra de vuestro DNI.\n",
    "3. Crea una variable llamada `tip_ord` de tipo Boolean indicando si usas Windows o no.\n",
    "4. Crea una variable llamada `nada` de tipo None cuyo valor sea None.\n",
    "5. Crea una variable llamada `lista_deseo` de tipo List que contenga los cuatro objetos que te llevarías a una isla desierta. Cada elemento ha de ser de tipo String y el tamaño de la lista ha de ser 4.\n",
    "6. Crea una variable llamada `tupla_ropa` de tipo Tuple con la marca de la prenda superior, inferior y calzado que llevas puesto.\n",
    "7. Crea una variable llamada `dict_info` con dos claves y dos valores. Una clave es 'nombre', teniendo como valor vuestro nombre. Otra key es 'edad', teniendo como valor vuestra edad.\n",
    "8. Crea una variable llamada `flo_hor` con la hora actual separada por punto en vez de dos puntos. Ejemplo: si son las 10:06, el valor de la variable sería 10.06\n",
    "\n",
    "Añade todos estos elementos en una lista llamada `lista_examen` en el orden de aparición:\n",
    "```Python\n",
    "lista_examen = [num_dni, let_dni, ...]\n",
    "```"
   ]
  },
  {
   "cell_type": "code",
   "execution_count": 10,
   "metadata": {},
   "outputs": [
    {
     "name": "stdout",
     "output_type": "stream",
     "text": [
      "[8, 'T', False, None, ['cuerda', 'cuenco', 'machete', 'brujula'], ('zara', 'levis', 'New Balance'), {'nombre': 'Pablo', 'edad': 22}, 16.17]\n"
     ]
    }
   ],
   "source": [
    "from datetime import datetime\n",
    "now = datetime.now()\n",
    "num_dni = 8\n",
    "let_dni = \"T\"\n",
    "tip_ord = False\n",
    "nada = None\n",
    "lista_deseo = [\"cuerda\", \"cuenco\", \"machete\", \"brujula\"]\n",
    "tupla_ropa = (\"zara\", \"levis\", \"New Balance\")\n",
    "dict_info = {\n",
    "    \"nombre\": \"Pablo\",\n",
    "    \"edad\": 22\n",
    "}\n",
    "flo_hor = now.hour + now.minute*0.01\n",
    "lista_examen = [num_dni, let_dni, tip_ord, nada, lista_deseo, tupla_ropa, dict_info, flo_hor]\n",
    "print(lista_examen)"
   ]
  },
  {
   "cell_type": "markdown",
   "metadata": {},
   "source": [
    "### Ejercicio 2\n",
    "\n",
    "Para resolver este ejercicio necesitarás la lista del ejercicio anterior (`lista_examen`). Se recomienda leer cada punto hasta el final antes de resolver el ejercicio.\n",
    "\n",
    "Se repite para que quede aún más claro: **SOLO USAR LA VARIABLE** `lista_examen`. Usar las demás variables se calificará como error.  \n",
    "\n",
    "1. Mostrar por pantalla, sin uso de funciones ni bucles: \n",
    "    - El segundo elemento de `lista_deseo` desde `lista_examen`.\n",
    "    - El calzado que llevas puesto.\n",
    "    - Vuestro nombre.\n",
    "    - La hora almacenada concatenada con vuestra edad y el número de vuestro de DNI. No debe haber espacios entre la concatenación.\n",
    "    - Si tenéis más de 20 años, el primer número de vuestro DNI es mayor a 7 y usas Mac, mostrar la posición 5 de `lista_examen`. En caso contrario, imprime el mensaje 'No se cumple'"
   ]
  },
  {
   "cell_type": "code",
   "execution_count": 11,
   "metadata": {},
   "outputs": [
    {
     "name": "stdout",
     "output_type": "stream",
     "text": [
      "cuenco\n",
      "New Balance\n",
      "Pablo\n",
      "16.17228\n",
      "['cuerda', 'cuenco', 'machete', 'brujula']\n"
     ]
    }
   ],
   "source": [
    "print(lista_examen[4][1])\n",
    "print(lista_examen[5][2])\n",
    "print(lista_examen[-2][\"nombre\"])\n",
    "print(f\"{lista_examen[-1]}{lista_examen[-2][\"edad\"]}{lista_examen[0]}\")\n",
    "if lista_examen[-2][\"edad\"] > 20 and lista_examen[0] > 7 and lista_examen[2] == False:\n",
    "    print(lista_examen[4])\n",
    "else:\n",
    "    print(\"No se cumple\")\n"
   ]
  },
  {
   "cell_type": "markdown",
   "metadata": {},
   "source": [
    "2. Mostrar por pantalla, con uso de un bucle `for`:\n",
    "    - Todos los elementos de `lista_examen`.\n",
    "    - Todos los elementos de `lista_deseo` desde `lista_examen`.\n",
    "    - Todos los elementos que ocupen una posición menor a 4 en `lista_examen`."
   ]
  },
  {
   "cell_type": "code",
   "execution_count": 14,
   "metadata": {},
   "outputs": [
    {
     "name": "stdout",
     "output_type": "stream",
     "text": [
      "8\n",
      "T\n",
      "False\n",
      "None\n",
      "['cuerda', 'cuenco', 'machete', 'brujula']\n",
      "('zara', 'levis', 'New Balance')\n",
      "{'nombre': 'Pablo', 'edad': 22}\n",
      "16.17\n",
      "cuerda\n",
      "cuenco\n",
      "machete\n",
      "brujula\n",
      "8\n",
      "T\n",
      "False\n"
     ]
    }
   ],
   "source": [
    "for i in lista_examen:\n",
    "    print(i)\n",
    "for j in lista_examen[4]:\n",
    "    print(j)\n",
    "for k in range(3):\n",
    "    print(lista_examen[k])"
   ]
  },
  {
   "cell_type": "markdown",
   "metadata": {},
   "source": [
    "### Ejercicio 3 \n",
    "Implementa una función que reciba una lista como argumento, calcule la raíz cuadrada de cada uno de los elementos de la lista y devuelva en un diccionario el valor máximo y mínimo de la lista de raíces. \n",
    "\n",
    "Ejemplo:\n",
    "```Python\n",
    "entrada: [4,9,36]\n",
    "salida: {'max':6.0,'min':2.0}\n",
    "```"
   ]
  },
  {
   "cell_type": "code",
   "execution_count": 15,
   "metadata": {},
   "outputs": [
    {
     "name": "stdout",
     "output_type": "stream",
     "text": [
      "{'max': 6.0, 'min': 2.0}\n"
     ]
    }
   ],
   "source": [
    "from math import sqrt\n",
    "\n",
    "def raices(lista):\n",
    "    lista_nueva = []\n",
    "    for i in lista:\n",
    "        lista_nueva.append(sqrt(i))   \n",
    "    dicc = {\n",
    "        'max': max(lista_nueva),\n",
    "        'min': min(lista_nueva)\n",
    "    } \n",
    "    return dicc\n",
    "\n",
    "\n",
    "print(raices([4, 9, 36]))"
   ]
  },
  {
   "cell_type": "markdown",
   "metadata": {},
   "source": [
    "### Ejercicio 4\n",
    "\n",
    "Crea una clase \"Jugador\" que instancie objetos con 3 atributos: \"goles\", \"dorsal\" y \"nombre\". Además, debe contar con dos métodos: \n",
    "\n",
    "- `marcar_gol`: al llamar a este método se debe sumar 1 a los goles actuales del jugador\n",
    "- `cambiar_dorsal` que recibe parametro \"nuevo_dorsal\": al llamar a esta función con un parámetro de entrada, esta función debe cambiar el número del dorsal por el \"nuevo_dorsal\""
   ]
  },
  {
   "cell_type": "code",
   "execution_count": 16,
   "metadata": {},
   "outputs": [],
   "source": [
    "class Jugador:\n",
    "    def __init__(self, goles, dorsal, nombre):\n",
    "        self.goles = goles\n",
    "        self.dorsal = dorsal\n",
    "        self.nombre = nombre\n",
    "\n",
    "    def marcar_gol(self):\n",
    "        self.goles += 1\n",
    "\n",
    "    def cambiar_dorsal(self, nuevo_dorsal):\n",
    "        self.dorsal = nuevo_dorsal"
   ]
  },
  {
   "cell_type": "markdown",
   "metadata": {},
   "source": [
    "Crea un jugador llamado \"Rafinha\" que lleva 0 goles y usa el dorsal 99. A Rafinha nunca le gustó su dorsal. Por eso, usa la función correspondiente para cambiarle su dorsal al 13. Además, en el último partido marcó un golazo: utiliza la función para aumentar sus goles anotados. \n",
    "\n",
    "Muestra por pantalla el dorsal del jugador antes y después de cambiarse de dorsal. Muestra también los goles de Rafinha antes y después de haber marcado."
   ]
  },
  {
   "cell_type": "code",
   "execution_count": 18,
   "metadata": {},
   "outputs": [
    {
     "name": "stdout",
     "output_type": "stream",
     "text": [
      "99\n",
      "13\n",
      "0\n",
      "1\n"
     ]
    }
   ],
   "source": [
    "rafinha = Jugador(0, 99, \"Rafinha\")\n",
    "\n",
    "print(rafinha.dorsal)\n",
    "rafinha.cambiar_dorsal(13)\n",
    "print(rafinha.dorsal)\n",
    "\n",
    "print(rafinha.goles)\n",
    "rafinha.marcar_gol()\n",
    "print(rafinha.goles)"
   ]
  },
  {
   "cell_type": "markdown",
   "metadata": {},
   "source": [
    "# Ramp up 2022"
   ]
  },
  {
   "cell_type": "markdown",
   "metadata": {},
   "source": [
    "Ejercicio 1 (0.5 punto)\n",
    "\n",
    "Escribe un programa que pida al usuario dos números y devuelva la suma de los mismos, evitando errores."
   ]
  },
  {
   "cell_type": "code",
   "execution_count": 21,
   "metadata": {},
   "outputs": [
    {
     "name": "stdout",
     "output_type": "stream",
     "text": [
      "3.0\n"
     ]
    }
   ],
   "source": [
    "def ejercicio1():    \n",
    "    try:\n",
    "        numero1 = float(input(\"Introduce el primer numero\"))\n",
    "        numero2 = float(input(\"Introduce el segundo numero\"))\n",
    "        suma = numero1 + numero2\n",
    "        print(suma)\n",
    "    except:\n",
    "        print(\"Ha habido un error\")\n",
    "\n",
    "ejercicio1()"
   ]
  },
  {
   "cell_type": "markdown",
   "metadata": {},
   "source": [
    "\n",
    "Ejercicio 2 (0.5 puntos)\n",
    "\n",
    "Escribe una función que reciba una lista de números y devuelva la suma de los elementos pares de la lista.\n"
   ]
  },
  {
   "cell_type": "code",
   "execution_count": 22,
   "metadata": {},
   "outputs": [
    {
     "name": "stdout",
     "output_type": "stream",
     "text": [
      "30\n"
     ]
    }
   ],
   "source": [
    "def suma_pares(lista_numeros):\n",
    "    lista_pares = []\n",
    "    for i in lista_numeros:\n",
    "        if i % 2 == 0:\n",
    "            lista_pares.append(i)\n",
    "    return sum(lista_pares)\n",
    "\n",
    "print(suma_pares([1,2,3,4,5,6,7,8,9,10]))\n"
   ]
  },
  {
   "cell_type": "markdown",
   "metadata": {},
   "source": [
    "Ejercicio 3 (0.5 puntos)\n",
    "\n",
    "Escribe un programa que lea una tupla de números enteros y devuelva una lista con los mismos números en orden inverso."
   ]
  },
  {
   "cell_type": "code",
   "execution_count": 23,
   "metadata": {},
   "outputs": [
    {
     "name": "stdout",
     "output_type": "stream",
     "text": [
      "[6, 5, 4, 3, 2]\n"
     ]
    }
   ],
   "source": [
    "def lector_de_tuplas(tuplon):\n",
    "    lista = list(tuplon)\n",
    "    lista.reverse() # lista = list(tuplon)[::-1]\n",
    "    return lista\n",
    "        \n",
    "tuplilla = (2,3,4,5,6)\n",
    "print(lector_de_tuplas(tuplilla))"
   ]
  },
  {
   "cell_type": "markdown",
   "metadata": {},
   "source": [
    "Ejercicio 4 (0.5 puntos)\n",
    "\n",
    "Escribe una función que reciba una lista de números y retorne un diccionario con el mínimo, el máximo, la media y la mediana de esos números. sin utilizar librerias externas"
   ]
  },
  {
   "cell_type": "code",
   "execution_count": 34,
   "metadata": {},
   "outputs": [
    {
     "name": "stdout",
     "output_type": "stream",
     "text": [
      "{'maximo': 4, 'minimo': 1, 'media': 2.5, 'mediana': 3.0}\n"
     ]
    }
   ],
   "source": [
    "def medianote(lista_numeros):\n",
    "    dicc = {}\n",
    "    dicc[\"maximo\"] = max(lista_numeros)\n",
    "    dicc[\"minimo\"] = min(lista_numeros)\n",
    "    dicc[\"media\"] = sum(lista_numeros)/len(lista_numeros)\n",
    "    if len(lista_numeros) % 2:\n",
    "        dicc[\"mediana\"] = lista_numeros[int(len(lista_numeros)/2)]\n",
    "    else:\n",
    "        primero = int(len(lista_numeros)/2)\n",
    "        dicc[\"mediana\"] = (lista_numeros[primero -1] + lista_numeros[primero])/2\n",
    "    return dicc\n",
    "\n",
    "print(medianote([1,2,4,3]))\n"
   ]
  },
  {
   "cell_type": "markdown",
   "metadata": {},
   "source": [
    "Ejercicio 5 (0.5 puntos)\n",
    "\n",
    "Escribe un texto en formato Markdown que incluya al menos un encabezado, una lista numerada y una imagen."
   ]
  },
  {
   "cell_type": "code",
   "execution_count": null,
   "metadata": {},
   "outputs": [],
   "source": []
  },
  {
   "cell_type": "markdown",
   "metadata": {},
   "source": [
    "Ejercicio 6 (2.5 puntos)\n",
    "\n",
    "Crea una clase llamada Saiyajin que tenga los siguientes métodos y atributos:\n",
    "\n",
    "Atributos para el nombre, nivel de poder y si es Super Saiyajin o no.\n",
    "\n",
    " kamehameha(): calcula el nivel de poder antes del ataque multiplicado por diez, acto seguido disminuye el nivel de poder antes del ataque en un 15% y devuelve una cadena que dice \"Kamehameha por X\" siendo X el valor del nivel de poder antes del ataque por diez . \n",
    " \n",
    " transformar(): Cambia el estado de Super Saiyajin y ajusta el nivel de poder en consecuencia. Si no estaba en SUper Saiyajin pasa a estarlo e incrementa el poder en un 300%. Si estaba en Super Saiyajin pasa a no estarlo y divide entre 3 el poder.\n",
    "\n",
    " Crea una lista de al menos 6 objetos de tipo Saiyajin y determina el de mayor nivel de poder, el de menor nivel de poder, el nivel medio de poder y cuantos super saiyajin hay en la lista\n",
    "\n",
    " Crea una lista con los niveles de poder y ordenala de menor a mayor."
   ]
  },
  {
   "cell_type": "code",
   "execution_count": null,
   "metadata": {},
   "outputs": [],
   "source": [
    "class Saiyajin:\n",
    "    def __init__(self, nombre:str, poder:float, sayjajin:bool):\n",
    "        self.nombre = nombre\n",
    "        self.poder = poder\n",
    "        self.saiyajin = sayjajin\n",
    "\n",
    "    def kamehameha(self):\n",
    "        poderx10 = self.poder * 10\n",
    "        self.poder = self.poder*0.85\n",
    "        return f'Kamehamega {poderx10}'\n",
    "    \n",
    "    def transformarar(self):\n",
    "        if self.saiyajin:\n",
    "            self.saiyajin = False\n",
    "            self.poder /= 3\n",
    "        else:\n",
    "            self.saiyajin = True\n",
    "            self.poder *= 3\n",
    "\n",
    "     \n"
   ]
  },
  {
   "cell_type": "markdown",
   "metadata": {},
   "source": [
    "Ejercicio 7 (2 puntos)\n",
    "\n",
    "Escribe un programa que realice funciones basicas de una calculadora.\n",
    "Suma, resta, multiplicación y división\n",
    "Debe preguntar al usuario la operación a realizar y los operandos\n",
    "Debe gestionar errores: operación o números no válidos y división entre 0."
   ]
  },
  {
   "cell_type": "code",
   "execution_count": 35,
   "metadata": {},
   "outputs": [
    {
     "name": "stdout",
     "output_type": "stream",
     "text": [
      "Bienvenido a la calculadora. \n",
      "Operaciones disponibles (Introduzca el indice de la operacion que quiera realizara): \n",
      "\n",
      "                    1. Suma\n",
      "                    2. Resta\n",
      "                    3. Multriplicacion\n",
      "                    4. Division\n",
      "                    5. salir      \n",
      "            \n",
      "1.0 + 2.0 = 3.0\n",
      "Operaciones disponibles (Introduzca el indice de la operacion que quiera realizara): \n",
      "\n",
      "                    1. Suma\n",
      "                    2. Resta\n",
      "                    3. Multriplicacion\n",
      "                    4. Division\n",
      "                    5. salir      \n",
      "            \n",
      "No se ha podido realizar 2.0 / 0.0 debido a que su resultado es una indeterminacion\n",
      "Operaciones disponibles (Introduzca el indice de la operacion que quiera realizara): \n",
      "\n",
      "                    1. Suma\n",
      "                    2. Resta\n",
      "                    3. Multriplicacion\n",
      "                    4. Division\n",
      "                    5. salir      \n",
      "            \n",
      "2.0 x 3.0 = 6.0\n",
      "Operaciones disponibles (Introduzca el indice de la operacion que quiera realizara): \n",
      "\n",
      "                    1. Suma\n",
      "                    2. Resta\n",
      "                    3. Multriplicacion\n",
      "                    4. Division\n",
      "                    5. salir      \n",
      "            \n",
      "1.0 - 3.0 = -2.0\n",
      "Operaciones disponibles (Introduzca el indice de la operacion que quiera realizara): \n",
      "\n",
      "                    1. Suma\n",
      "                    2. Resta\n",
      "                    3. Multriplicacion\n",
      "                    4. Division\n",
      "                    5. salir      \n",
      "            \n",
      "\n",
      "Adios\n"
     ]
    }
   ],
   "source": [
    "def calculadora():\n",
    "    print(\"Bienvenido a la calculadora. \")\n",
    "    while True:\n",
    "        try:\n",
    "            print(\"\"\"Operaciones disponibles (Introduzca el indice de la operacion que quiera realizara): \n",
    "\n",
    "                    1. Suma\n",
    "                    2. Resta\n",
    "                    3. Multriplicacion\n",
    "                    4. Division\n",
    "                    5. salir      \n",
    "            \"\"\")\n",
    "            operacion = input(\"Que operacion desea realizar (Introduzca el indice de la operacion que quiera realizara)\")\n",
    "            if operacion == '5':\n",
    "                print(\"\\nAdios\")\n",
    "                break\n",
    "            numero1 = float(input(\"Introduzca el primer numero a operar\"))\n",
    "            numero2 = float(input(\"Introduzca el segundo numero a operar\"))\n",
    "\n",
    "            if operacion == '1':\n",
    "                print(f\"{numero1} + {numero2} = {numero1 + numero2}\")\n",
    "            elif operacion == '2':\n",
    "                print(f\"{numero1} - {numero2} = {numero1 - numero2}\")\n",
    "            elif operacion == '3':\n",
    "                print(f\"{numero1} x {numero2} = {numero1 * numero2}\")\n",
    "            elif operacion == '4':\n",
    "                try:\n",
    "                    print(f\"{numero1} / {numero2} = {numero1 / numero2}\")\n",
    "                except ZeroDivisionError:\n",
    "                    print(f\"No se ha podido realizar {numero1} / {numero2} debido a que su resultado es una indeterminacion\")\n",
    "            else:\n",
    "                print(\"Introdujo mal lo que quiere hacer\")\n",
    "        except:\n",
    "            print(\"Introdujo algo que no es un numero, repita el proceso\")\n",
    "\n",
    "calculadora()"
   ]
  }
 ],
 "metadata": {
  "kernelspec": {
   "display_name": "Python 3",
   "language": "python",
   "name": "python3"
  },
  "language_info": {
   "codemirror_mode": {
    "name": "ipython",
    "version": 3
   },
   "file_extension": ".py",
   "mimetype": "text/x-python",
   "name": "python",
   "nbconvert_exporter": "python",
   "pygments_lexer": "ipython3",
   "version": "3.12.1"
  }
 },
 "nbformat": 4,
 "nbformat_minor": 2
}
