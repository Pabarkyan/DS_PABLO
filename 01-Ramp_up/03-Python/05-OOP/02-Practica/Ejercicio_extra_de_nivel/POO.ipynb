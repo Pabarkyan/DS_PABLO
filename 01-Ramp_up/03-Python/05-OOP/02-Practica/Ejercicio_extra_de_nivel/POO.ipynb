{
 "cells": [
  {
   "cell_type": "markdown",
   "metadata": {},
   "source": [
    "## Programacion Orientada a Objetos (POO) con Python\n",
    "\n",
    "La programacion orientada a objetos es un paradigma de programacion, en otras palabras es una forma de resolver problemas siguiendo una metodologia en particular, en este caso es una forma especial de programar, más cercana a como expresaríamos las cosas en la vida real.\n",
    "\n",
    "Tenemos que aprender a pensar las cosas de una manera distinta para poder escribir nuestros programas en términos de objetos, propiedades y métodos; la POO tiene como principio que todo en la vida es un objeto programable, entonces para empezar a programar con este paradigma, tendríamos que empezar con desarrollar nuestro pensamiento basado en objetos.\n",
    "\n",
    "Pensar en términos de objetos es pensar de manera natural como lo haríamos en la vida real. Un objeto contiene propiedades que almacenan valores y metodos que le añaden funcionalidad. Por ejemplo:\n",
    "al pensar en una espada como un objeto para ser programado, diriamos que la espada contiene una serie de caracteristicas, como podria ser el filo, el nombre, el daño o el color; además tiene una serie de funcionalidades o métodos asociados al mismo, como pueden ser: cortar o atacar.\n",
    "\n",
    "En un esquema POO la espada sería el objeto, las propiedades serían las características como el filo o el daño y los métodos serían las funcionalidades asociadas como cortar o atacar.\n",
    "\n",
    "vamos a ver esto de manera practica para entenderlo mejor.."
   ]
  },
  {
   "cell_type": "markdown",
   "metadata": {},
   "source": [
    "![img1_copy](img1_copy.png)"
   ]
  },
  {
   "cell_type": "code",
   "execution_count": null,
   "metadata": {},
   "outputs": [],
   "source": [
    "espada = {\n",
    "\n",
    "}"
   ]
  },
  {
   "cell_type": "markdown",
   "metadata": {},
   "source": [
    "como vimos en la imagen de arriba el objeto espada contiene la propiedad daño con un valor de 9 y filo con un valor de 8, tambien se puede apreciar que las propiedades se separan unas de otras por medio de una coma \",\"."
   ]
  },
  {
   "cell_type": "markdown",
   "metadata": {},
   "source": [
    "Ahora supongamos que tenemos un objeto llamado kraken 🦑 el cual es un mounstruo marino, este objeto contendra propiedades como nombre, tipo, vida y resistencia. para crear dicho objeto escribamos el siguiente codigo:"
   ]
  },
  {
   "cell_type": "markdown",
   "metadata": {},
   "source": [
    "![img2_copy](img2_copy.png)"
   ]
  },
  {
   "cell_type": "markdown",
   "metadata": {},
   "source": [
    "como vimos en la imagen anterior, para acceder a una propiedad de un objeto se hace mediante el nombre del objeto seguido por el nombre de la propiedad entre corchetes [] ejemplo: Kraken['vida'] esto retornara 12"
   ]
  },
  {
   "cell_type": "code",
   "execution_count": null,
   "metadata": {},
   "outputs": [],
   "source": [
    "kraken = {\n",
    "          'nombre' : 'Kraken',\n",
    "          'tipo' : 'marino',\n",
    "          'vida' : 12,\n",
    "          'resistencia' : 2\n",
    "         }"
   ]
  },
  {
   "cell_type": "code",
   "execution_count": null,
   "metadata": {},
   "outputs": [],
   "source": [
    "#nombre\n",
    "print(kraken[\"nombre\"])\n",
    "#tipo\n",
    "print(kraken[\"tipo\"])\n",
    "#vida\n",
    "print(kraken[\"vida\"])\n",
    "#resistencia\n",
    "print(kraken[\"resistencia\"])"
   ]
  },
  {
   "cell_type": "markdown",
   "metadata": {},
   "source": [
    "Ahora que ya sabemos crear un objeto de manera estática veamos como crearlo a partir de una plantilla o clase\n",
    "\n",
    "Una Clase es una plantilla para crear un nuevo objeto donde podemos definir que propiedades y métodos contendrá el objeto .\n",
    "\n",
    "Pensemos en las clases como plantillas con las que podemos crear uno o varios objetos que tendrán más o menos la misma estructura. En el siguiente ejemplo crearemos una plantilla para crear espadas las cuales contendrán propiedades tales como nombre, rareza, daño, filo y un método llamado atacar() el cual restara vida a un objetivo dado:"
   ]
  },
  {
   "cell_type": "markdown",
   "metadata": {},
   "source": [
    "![img3_copy](img3_copy.png)"
   ]
  },
  {
   "cell_type": "code",
   "execution_count": null,
   "metadata": {},
   "outputs": [],
   "source": [
    "class Espada:\n",
    "    def __init__(self, nombre, rareza, daño, filo):\n",
    "\n",
    "        \n",
    "    def atacar(self, objetivo):\n",
    "        #codigo# #si la espada tiene filo suficiente y el objetivo esta vivo la espada atacara\n",
    "             #se le restaran los puntos de daño de la espada a la vida del objetivo y se le sumara la resistencia del objetivo\n",
    "            #codigo#\n",
    "            #codigo# #Cada vez que la espada ataque perdera 2 puntos de filo\n",
    "        #codigo# #si la vida del objetivo es igual o menor que cero\n",
    "            #codigo#\n",
    "        #codigo#\n",
    "            #codigo# #si el filo de la espada llega a cero"
   ]
  },
  {
   "cell_type": "markdown",
   "metadata": {},
   "source": [
    "Ahora Podremos crear tantas espadas como queramos!!! y definir su daño, filo ,nombre o rareza asi que manos a la obra!!!\n",
    "A continuación vamos a ver como crear objetos a partir de una clase:"
   ]
  },
  {
   "cell_type": "markdown",
   "metadata": {},
   "source": [
    "![img4_copy](img4_copy.png)"
   ]
  },
  {
   "cell_type": "code",
   "execution_count": null,
   "metadata": {},
   "outputs": [],
   "source": [
    "#crear una espada vikinga comun con 6 de daño y 7 de filo\n",
    "espadaVikinga = \n",
    "#crear una espada heorica rar con filo 8 y daño igual a 7\n",
    "espadaHeorica = \n",
    "\n",
    "print('Vida antes del ataque:', kraken['vida'])\n",
    "\n",
    "espadaVikinga.atacar(kraken)\n",
    "\n",
    "print('Vida después del ataque:', kraken['vida'])"
   ]
  },
  {
   "cell_type": "markdown",
   "metadata": {},
   "source": [
    "En la imagen que acabamos de ver se instancian dos objetos de la clase Espada llamados espadaVikinga y espadaHeroica en otras palabras se crean dos objetos con la plantilla Espada, y tan solo usando dos líneas de código!! y es que el objetivo de las clases es ayudar a reducir el código. cada vez que se ejecute la linea espadaVikinga.atacar(kraken) se le restan 6 puntos de vida al kraken y el filo de la espada vikinga disminuye 2 puntos, cuando el filo de la espada sea 0 o menos de 0 ya atacar() no causara daño alguno al kraken."
   ]
  },
  {
   "cell_type": "markdown",
   "metadata": {},
   "source": [
    "## La herencia\n",
    "\n",
    "Es uno de los fundamentos de la programación orientada a objetos, Se usa para hacer que una clase hija obtenga o herede todos los elementos (métodos y propiedades) de una clase padre, a partir de esta copia del padre podemos crear nuevos métodos y propiedades, así como mantener, modificar o eliminar los ya existentes que hemos heredado.\n",
    "\n",
    "Uno de los objetivos de la herencia es reducir la cantidad de código, ya que no tenemos que escribir una clase desde cero, si no que podemos reutilizar métodos o atributos definidos ya en otra clase.\n",
    "\n",
    "Ya tenemos una plantilla para crear espadas básicas con los atributos: nombre, rareza, daño y filo, así como un método para atacar a un objetivo, ahora supongamos que queremos crear un tipo especial de espadas que contenga un ataque especial para monstruos de tipo marino, para hacer esto solo tenemos que crear una clase que herede las propiedades y métodos de la clase Espada y luego añadirle la nueva funcionalidad “ataque tsunami”."
   ]
  },
  {
   "cell_type": "markdown",
   "metadata": {},
   "source": [
    "![img5_copy](img5_copy.png)"
   ]
  },
  {
   "cell_type": "markdown",
   "metadata": {},
   "source": [
    "La clase EspadaMarina hereda los atributos nombre, rareza, daño, filo y el método atacar() de la clase Espada y luego le agregamos el nuevo método ataqueTsunami()."
   ]
  },
  {
   "cell_type": "markdown",
   "metadata": {},
   "source": [
    "Ahora vamos a ver esto de manera practica para entender mejor el concepto:"
   ]
  },
  {
   "cell_type": "markdown",
   "metadata": {},
   "source": [
    "![img6_copy](img6_copy.png)"
   ]
  },
  {
   "cell_type": "code",
   "execution_count": null,
   "metadata": {},
   "outputs": [],
   "source": [
    "class EspadaMarina(Espada):\n",
    "\t\n",
    "\tdef ataqueTsunami(self, objetivo):\n",
    "\t\t\n",
    "\t\t"
   ]
  },
  {
   "cell_type": "markdown",
   "metadata": {},
   "source": [
    "Ahora ya tenemos una clase nueva para crear espadas con un nuevo tipo de ataque que solo causa daño a enemigos de tipo marino, procedamos a crear dos espadas nuevas"
   ]
  },
  {
   "cell_type": "markdown",
   "metadata": {},
   "source": [
    "![img7_copy](img7_copy.png)"
   ]
  },
  {
   "cell_type": "markdown",
   "metadata": {},
   "source": [
    "![img8_copy](img8_copy.png)"
   ]
  },
  {
   "cell_type": "code",
   "execution_count": null,
   "metadata": {},
   "outputs": [],
   "source": [
    "kraken = {\n",
    "          'nombre' : 'Kraken',\n",
    "          'tipo' : 'marino',\n",
    "          'vida' : 12,\n",
    "          'resistencia' : 2\n",
    "         }"
   ]
  },
  {
   "cell_type": "code",
   "execution_count": null,
   "metadata": {},
   "outputs": [],
   "source": [
    "#creamos la espada pirata la cual contara con el nuevo ataque del tipo rara con daño 10 y filo 7\n",
    "espadaPirata =  \n",
    "\n",
    "#creamos la espada de Poseidon la cual contara con el nuevo ataque del tipo epica con daño 12 y filo 10\n",
    "espadaDePoseidon =  \n",
    "\n",
    "#ahora si estamos bien Armados, acabemos con el Kraken con la espada de poseidon!!!\n",
    "\n",
    "print('Vida antes del ataque:', kraken['vida'])\n",
    "\n",
    "#ataque\n",
    "\n",
    "print('Vida después del ataque:', kraken['vida'])\n"
   ]
  },
  {
   "cell_type": "code",
   "execution_count": 11,
   "metadata": {},
   "outputs": [],
   "source": [
    "# Mi juego: crea una clase armas y una clase monstruo, crea funciones que interaccionen entre ellos, crea personajes que solo puedan usar unas determinadas armas\n",
    "\n",
    "# asignacion de clases\n",
    "\n",
    "lista_personajes = [] # lista vacia donde guardaremos todos los personajes que vayamos creando\n",
    "\n",
    "class Personaje:\n",
    "    estado = True # Es tru si el personaje esta vivo, False si murio\n",
    "    def __init__(self, nombre, vida, daño_base, velocidad_de_ataque, armadura, nivel=1):\n",
    "        self.nombre = nombre\n",
    "        self.vida = vida\n",
    "        self.nivel = nivel\n",
    "        self.daño = daño_base\n",
    "        self.velocidadAtaque = velocidad_de_ataque\n",
    "        self.armadura = armadura\n",
    "\n",
    "    def __repr__(self): # Con esto definimos como queremos que nos devuelva un objeto\n",
    "        return f'{self.nombre} |   clase: {self.clase} |   vida: {self.vida} |  nivel: {self.nivel} |  daño: {self.daño} |  velocidad de ataque: {self.velocidadAtaque} |  armadura: {self.armadura}'\n",
    "\n",
    "    def subir_de_nivel(self, aumento):\n",
    "        self.nivel = self.nivel + aumento\n",
    "\n",
    "    def perder_vida(self, daño_recibido): # Todos los aumentos pueden ser decrementos siempre que usemos numeros negativos\n",
    "        self.vida = self.vida - daño_recibido\n",
    "        if self.vida <= 0:\n",
    "            self.estado = False\n",
    "            print(\"Su personaje murio, creese otro o resucitelo\")\n",
    "    \n",
    "    def aumentar_daño(self, aumento):\n",
    "        self.vida = self.vida + aumento\n",
    "\n",
    "    def aumentar_velocidad_de_ataque(self, aumento):\n",
    "        self.vida = self.vida + aumento\n",
    "\n",
    "    def aumentar_armadura(self, aumento):\n",
    "        self.vida = self.vida + aumento\n",
    "\n",
    "    def restar_puntos_en_la_creacion(puntos, resta):\n",
    "        puntos = puntos - resta\n",
    "        if puntos <= 0:\n",
    "            print(\"Se paso de sus puntos, repita la creacion de personaje\")\n",
    "            \n",
    "        return puntos\n",
    "\n",
    "    def mostrar_personajes(lista_personajes): # Muestra todos los personajes creados de la forma que asignamos en __repr__\n",
    "        for i in lista_personajes:\n",
    "            print(i)\n",
    "\n",
    "#--------------Creacion de clases para los personajes------------------------\n",
    "\n",
    "class Mago(Personaje):\n",
    "    def __init__(self, vida, daño_base, velocidad_de_ataque, armadura, arma = None, clase = \"Guerrero\" , nivel=1, mana = 500):\n",
    "        super().__init__(vida, daño_base, velocidad_de_ataque, armadura, nivel)\n",
    "        self.clase = clase\n",
    "        self.arma = arma\n",
    "        self.mana = mana + self.nivel*2 + 200 # Cada habilidad tiene un costo en mana para evitar que se use la habilidad mas poderosa, y tengas que usar estrategia\n",
    "        self.habilidades = {\n",
    "            \"bola de fuego\": {\n",
    "                \"daño\": 25 + self.nivel*0.1 + daño_base,\n",
    "                \"mana\": -15, \n",
    "                \"vida\": 0,\n",
    "                \"armadura\": 0,\n",
    "                \"velocidad\": self.velocidadAtaque\n",
    "            },\n",
    "            \"barrera\": {\n",
    "                \"daño\": 0,\n",
    "                \"mana\": -15, \n",
    "                \"vida\": 20,\n",
    "                \"armadura\": 50,\n",
    "                \"velocidad\": self.velocidadAtaque\n",
    "            },\n",
    "            \"bola de hielo\": {\n",
    "                \"daño\": 25 + self.nivel*0.1 + daño_base,\n",
    "                \"mana\": -30, \n",
    "                \"vida\": 0,\n",
    "                \"armadura\": 0,\n",
    "                \"velocidad\": self.velocidadAtaque\n",
    "            }\n",
    "        }\n",
    "        self.armas = [\"bastones\"] # Armas que puede utilizar el personaje\n",
    "\n",
    "class Guerrero(Personaje):\n",
    "    def __init__(self, vida, daño_base, velocidad_de_ataque, armadura, arma = None, clase = \"Guerrero\" , nivel=1, mana = 100):\n",
    "        super().__init__(vida, daño_base, velocidad_de_ataque, armadura, nivel)\n",
    "        self.clase = clase\n",
    "        self.mana = mana + self.nivel*1.5\n",
    "        self.armadura = self.armadura + 500\n",
    "        self.vida = self.vida + 100\n",
    "        self.daño = self.daño - 30\n",
    "        self.arma = arma\n",
    "        self.habilidades = {\n",
    "            \"embate\": {\n",
    "                \"daño\": 35 + self.nivel*0.1 + daño_base,\n",
    "                \"mana\": -15, \n",
    "                \"vida\": 0,\n",
    "                \"armadura\": 0,\n",
    "                \"velocidad\": self.velocidadAtaque + 20\n",
    "            },\n",
    "            \"defensa\": {\n",
    "                \"daño\": 0,\n",
    "                \"mana\": -15, \n",
    "                \"vida\": 20,\n",
    "                \"armadura\": 50,\n",
    "                \"velocidad\": self.velocidadAtaque\n",
    "            },\n",
    "            \"golpe mortal\": {\n",
    "                \"daño\": 80 + self.nivel*0.1  + daño_base,\n",
    "                \"mana\": -60, \n",
    "                \"vida\": 0,\n",
    "                \"armadura\": 0,\n",
    "                \"velocidad\": self.velocidadAtaque - 10\n",
    "            }\n",
    "        }\n",
    "        self.armas = [\"espadas\", \"mazas\", \"hachas\"]\n",
    "\n",
    "\n",
    "class Acechador(Personaje):\n",
    "    def __init__(self, vida, daño_base, velocidad_de_ataque, armadura, arma = None, clase = \"Acechador\" ,nivel=1, mana = 100):\n",
    "        super().__init__(vida, daño_base, velocidad_de_ataque, armadura, nivel)\n",
    "        self.clase = clase\n",
    "        self.arma = arma\n",
    "        self.mana = mana + self.nivel*1.5\n",
    "        self.velocidadAtaque = self.velocidadAtaque + 200\n",
    "        self.habilidades = {\n",
    "            \"puñalada\": {\n",
    "                \"daño\": 20 + self.nivel*0.1  + daño_base,\n",
    "                \"mana\": -15, \n",
    "                \"vida\": 0,\n",
    "                \"armadura\": 0,\n",
    "                \"velocidad\": self.velocidadAtaque + 20\n",
    "            },\n",
    "            \"esfumar\": {\n",
    "                \"daño\": 0,\n",
    "                \"mana\": -100, \n",
    "                \"vida\": 200,\n",
    "                \"armadura\": 0,\n",
    "                \"velocidad\": self.velocidadAtaque\n",
    "            },\n",
    "            \"afilar\": {\n",
    "                \"daño\": 0 + self.nivel*0.1 + daño_base,\n",
    "                \"mana\": -40, \n",
    "                \"vida\": 0,\n",
    "                \"armadura\": 0,\n",
    "                \"velocidad\": self.velocidadAtaque + 100\n",
    "            }\n",
    "        }\n",
    "        self.armas = [\"dagas\"] \n",
    "\n",
    "#--------------- Creacion de armas para los personajes ------------------------\n",
    "\n",
    "class Armas:\n",
    "    def __init__(self, nombre, tipo, daño, velocidad):\n",
    "        self.nombre = nombre\n",
    "        self.tipo = tipo\n",
    "        self.daño = daño\n",
    "        self.velocidad = velocidad\n",
    "\n",
    "    def __repr__(self):\n",
    "        return f'{self.nombre} |   tipo: {self.tipo} |  daño: {self.daño} |  daño: {self.daño} |  velocidad de ataque: {self.velocidad}'\n",
    "\n",
    "class Bastones(Armas):\n",
    "    def __init__(self, nombre, tipo = \"Baston\", daño = 10, velocidad = 10):\n",
    "        super().__init__(nombre, tipo, daño, velocidad)\n",
    "\n",
    "class Espadas(Armas):\n",
    "    def __init__(self, nombre, tipo = \"Espada\", daño = 70, velocidad = 40):\n",
    "        super().__init__(nombre, tipo, daño, velocidad)\n",
    "\n",
    "class Dagas(Armas):\n",
    "    def __init__(self, nombre, tipo = \"Dagas\", daño = 60, velocidad = 100):\n",
    "        super().__init__(nombre, tipo, daño, velocidad)\n",
    "\n",
    "class Hachas(Armas):\n",
    "    def __init__(self, nombre, tipo = \"Hacha\", daño = 80, velocidad = 10):\n",
    "        super().__init__(nombre, tipo, daño, velocidad)\n",
    "\n",
    "class Maza(Armas):\n",
    "    def __init__(self, nombre, tipo = \"Maza\", daño = 100, velocidad = 90):\n",
    "        super().__init__(nombre, tipo, daño, velocidad)\n",
    "\n",
    "# -------------- Definimos los monstruos con los que lucharemos -----------------\n",
    "\n",
    "class Monstruos:\n",
    "    def __init__(self, nombre, dificultad, vida, experiencia, velocidad, daño):\n",
    "        self.nombre = nombre\n",
    "        self.dificultad = dificultad\n",
    "        self.vida = vida\n",
    "        self.experiencia = experiencia # Cantidad de nivel que subes al derrotarlo\n",
    "        self.velocidad = velocidad\n",
    "        self.daño = daño\n",
    "\n",
    "    def __repr__(self):\n",
    "        return f'{self.nombre} |   vida: {self.vida} |  dificultado: {self.dificultad} |  daño: {self.daño} |  velocidad de ataque: {self.velocidad} |  recompensa de experiencia: {self.experiencia}'\n",
    "\n"
   ]
  },
  {
   "cell_type": "code",
   "execution_count": 10,
   "metadata": {},
   "outputs": [
    {
     "ename": "SyntaxError",
     "evalue": "invalid syntax (2813742711.py, line 33)",
     "output_type": "error",
     "traceback": [
      "\u001b[1;36m  Cell \u001b[1;32mIn[10], line 33\u001b[1;36m\u001b[0m\n\u001b[1;33m    for i in\u001b[0m\n\u001b[1;37m            ^\u001b[0m\n\u001b[1;31mSyntaxError\u001b[0m\u001b[1;31m:\u001b[0m invalid syntax\n"
     ]
    }
   ],
   "source": [
    "# -------------------Elementos creados para el juego, monstruos y armas--------------------\n",
    "\n",
    "cthulhu = Monstruos(nombre=\"cthulhu\", dificultad=\"dificil\", vida= 1000, experiencia= 10, velocidad= 30, daño=30)\n",
    "Leon_de_Amenea = Monstruos(nombre=\"Leon de Amenea\", dificultad=\"media\", vida= 30, experiencia= 7, velocidad= 20, daño=10)\n",
    "Minotauro = Monstruos(nombre=\"Minotauro\", dificultad=\"dificil\", vida= 2000, experiencia= 50, velocidad= 30, daño=30)\n",
    "\n",
    "lista_de_monstruos = [cthulhu, Leon_de_Amenea, Minotauro]\n",
    "\n",
    "Baston_de_Gandalf = Bastones(\"Baston de Gandalf\", \"Baston\", 200, 10)\n",
    "Excalibur = Bastones(\"Escalibur\", \"Espada\", 100, 70)\n",
    "Mjölnir = Bastones(\"Mjölnir\", \"Maza\", 90, 40)\n",
    "Tizona = Bastones(\"Tizona\", \"Dagas\", 40, 300)\n",
    "Fragarach = Bastones(\"Fragarach\", \"Hacha\", 90, 40)\n",
    "\n",
    "lista_de_armas = [Baston_de_Gandalf, Excalibur, Mjölnir, Tizona, Fragarach]\n",
    "\n",
    "# ----------------------funciones del juego-----------------\n",
    "\n",
    "# ----------------------Creacion de Personajes-------------------\n",
    "\n",
    "def seleccion_clase(personaje):\n",
    "    print(\"\"\"\\nClases disponibles:\\n\n",
    "        1. Guerrero: Menos velocidad de ataque, ataque medio y mas aguante, puede usar espadas, hachas o mazas\n",
    "        2. Mago: poco aguante y poca velocidad de ataque, mucho daño, solo puede usar bastones\n",
    "        3. Acechador: daño y aguante medios, velocidad de ataque muy alta, solo puede usar dagas      \n",
    "    \"\"\")\n",
    "    seleccion = input(\"\\nSeleccione su clase: \") # Segundo paso para la creacion de personaje\n",
    "    if seleccion == \"1\":\n",
    "        personaje = Guerrero(personaje)\n",
    "    elif seleccion == \"2\":\n",
    "        personaje = Mago(personaje)\n",
    "    elif seleccion == \"3\":\n",
    "        personaje = Acechador(personaje)\n",
    "    else:\n",
    "        print(\"\\nIntrodujo algo mal, recuerda que debes seleccionar el indice que acompañe a la opcion que quiera seleccionar\")\n",
    "        seleccion_clase(personaje)\n",
    "    return personaje\n",
    "\n",
    "def caracteristicas_personaje(): # Caracteristicas base del personaje\n",
    "    try:\n",
    "        print(\"Reparta sus puntos entre daño, velocidad, armadura o velocidad, tiene 200 puntos, repartalo sabiamente \")\n",
    "        puntos_totales = 200\n",
    "        nombre_personaje = input(\"Ingrese el nombre del personaje: \")\n",
    "        daño_personaje = int(input(f\"Ingrese la fuerza del personaje (puntos totales: {puntos_totales}): \"))\n",
    "        puntos_totales -= daño_personaje\n",
    "        velocidad_personaje = int(input(f\"Ingrese la velocidad del personaje(puntos totales: {puntos_totales}): \"))\n",
    "        puntos_totales -= velocidad_personaje\n",
    "        armadura_personaje = int(input(f\"Ingrese la armadura de su personaje(puntos totales: {puntos_totales}): \"))\n",
    "        puntos_totales -= armadura_personaje\n",
    "        if puntos_totales < 0:\n",
    "            print(\"Introdujo mas puntos de los que tiene, repita el proceso\")\n",
    "            caracteristicas_personaje()\n",
    "        else:\n",
    "            nuevo_personaje = Personaje(nombre_personaje, 200, daño_personaje, velocidad_personaje, armadura_personaje)\n",
    "            return nuevo_personaje\n",
    "    except:\n",
    "        print(\"\\nSolo puede introducir numeros enteros en las caracteristicas de su personaje\\n\")\n",
    "        caracteristicas_personaje()\n",
    "\n",
    "def crear_personaje(lista_personajes): # Funcion que formaliza la creacion del personaje y añade a la lista de personajes el elemento creaod\n",
    "    personaje_fase1 = caracteristicas_personaje()\n",
    "    personaje_terminado = seleccion_clase(personaje_fase1)\n",
    "    lista_personajes.append(personaje_terminado)\n",
    "    print(f\"Se creo su personaje '{personaje_terminado.nombre}'\")\n",
    "\n",
    "# ----------------------Mostrar personajes-------------------\n",
    "\n",
    "def mostrar_personajes(lista_personajes):\n",
    "    for i, j in enumerate(lista_personajes):\n",
    "        print(f\"{i + 1}. {j}\")\n",
    "\n",
    "# ----------------------funciones de lucha-------------------\n",
    "\n",
    "def seleccion_de_batalla(lista_personajes, lista_de_monstruos, lista_de_armas):\n",
    "    print(\"\\n\\nMonstruos disponibles: \")\n",
    "    for i, j in enumerate(lista_de_monstruos):\n",
    "        print(f\"{i + 1}. {j}\")\n",
    "    try:\n",
    "        decision_monstruo = int(input(\"\\nSeleccione un monstruo para combatir: \")) - 1\n",
    "        monstruo_seleccionado = lista_de_monstruos[decision_monstruo]\n",
    "        \n",
    "        for k, h in enumerate(lista_de_monstruos):\n",
    "            print(f\"{k + 1}. {h}\")\n",
    "        decision_personaje = int(input(f\"\\nSeleccione el personaje con el que quiere combatir\")) - 1\n",
    "        personaje_seleccionado = lista_personajes[decision_personaje]\n",
    "\n",
    "        for a, b in enumerate(lista_de_armas):\n",
    "            print(f\"{a + 1}. {b}\")\n",
    "        decision_arma = int(input(f\"\\nSeleccione el personaje con el que quiere combatir\")) - 1\n",
    "        arma_seleccionada = lista_de_armas[decision_arma]\n",
    "\n",
    "    except:\n",
    "        print(\"\\nIntrodujo algo incorrectamente\")\n",
    "        seleccion_de_batalla(lista_personajes, lista_de_monstruos)\n",
    "    \n",
    "\n",
    "\n",
    "\n",
    "# ----------------------Funcion de juego-------------------\n",
    "\n",
    "def jugar():\n",
    "    print(\"Bienvenido al juego de los monstruos\")\n",
    "\n",
    "    juego = True\n",
    "    while juego:\n",
    "        if len(lista_personajes) == 0: # Si no tenemos Ningun personaje el juego nos obligara a crearnos uno para poder seguir jugando\n",
    "            print(\"\\nAntes de seguir jugando tienes que tener al menos un personaje creado\")\n",
    "            print(\"\\n---1. Crear personaje---\")\n",
    "            crear_personaje(lista_personajes)\n",
    "        else:\n",
    "            print(\"\"\"\\n\\n\n",
    "                1. Crear personaje\n",
    "                2. Mostrar personajes\n",
    "                3. Luchar!!!!!\n",
    "                4. Salir        \n",
    "            \"\"\")\n",
    "            decision = input(\"\\n¿Que quiere hacer ahora (Introduzca el numero que acompaña a la opcion para seleccionarla)\\n\\n?\")\n",
    "\n",
    "            if decision == \"1\":\n",
    "                crear_personaje(lista_personajes)\n",
    "            elif decision == \"2\":\n",
    "                mostrar_personajes(lista_personajes)\n",
    "            elif decision == \"3\":\n",
    "                seleccion_de_batalla(lista_personajes, lista_de_monstruos, lista_de_armas)\n",
    "            elif decision == \"4\":\n",
    "                juego = False\n",
    "            else:\n",
    "                print(\"\\nIntrodujo una opcion que no es valida, recuerde que tiene que introducir, 1, 2, 3, o 4 si quiere abandonar\")\n",
    "\n"
   ]
  },
  {
   "cell_type": "code",
   "execution_count": null,
   "metadata": {},
   "outputs": [],
   "source": [
    "# Jugar\n",
    "\n",
    "jugar()\n"
   ]
  }
 ],
 "metadata": {
  "kernelspec": {
   "display_name": "Python 3.9.5 ('este')",
   "language": "python",
   "name": "python3"
  },
  "language_info": {
   "codemirror_mode": {
    "name": "ipython",
    "version": 3
   },
   "file_extension": ".py",
   "mimetype": "text/x-python",
   "name": "python",
   "nbconvert_exporter": "python",
   "pygments_lexer": "ipython3",
   "version": "3.12.1"
  },
  "orig_nbformat": 4,
  "vscode": {
   "interpreter": {
    "hash": "a2096eed11e660c16a57aa22341844f97628d296d9189b003c816b71548c0c9d"
   }
  }
 },
 "nbformat": 4,
 "nbformat_minor": 2
}
