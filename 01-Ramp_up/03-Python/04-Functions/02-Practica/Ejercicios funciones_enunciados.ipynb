{
 "cells": [
  {
   "cell_type": "markdown",
   "metadata": {},
   "source": [
    "![imagen](./img/espectadores.jpg)"
   ]
  },
  {
   "cell_type": "markdown",
   "metadata": {},
   "source": [
    "<table align=\"left\">\n",
    " <tr><td width=\"80\"><img src=\"./img/ejercicio.png\" style=\"width:auto;height:auto\"></td>\n",
    "     <td style=\"text-align:left\">\n",
    "         <h3>Ejercicio. Crea tu propia funcion</h3>\n",
    "\n",
    "Crea tu propia funcion. En este caso, queremos implementar una función para saber si podremos ir de excursión a la montaña. Para ello, la función recibirá dos argumentos: tiempo, que sera un booleano, y una lista con acompañantes. Si hace buen tiempo y al menos vienen dos personas conmigo -> return el primero que se apuntó a la lista, si solo hace buen tiempo -> return \"A la montaña\", y si no, return \"No podemos ir\"\n",
    "         \n",
    " </td></tr>\n",
    "</table>"
   ]
  },
  {
   "cell_type": "code",
   "execution_count": null,
   "metadata": {},
   "outputs": [],
   "source": [
    "# Tu solución aquí"
   ]
  },
  {
   "cell_type": "markdown",
   "metadata": {},
   "source": [
    "<table align=\"left\">\n",
    " <tr><td width=\"80\"><img src=\"./img/ejercicio.png\" style=\"width:auto;height:auto\"></td>\n",
    "     <td style=\"text-align:left\">\n",
    "         <h3>Ejercicio argumentos variables</h3>\n",
    "Crea una función que reciba un numero variable de marcas de coche, las concatene todas separandolas por comas y devuelva ese string concatenado\n",
    "         \n",
    " </td></tr>\n",
    "</table>"
   ]
  },
  {
   "cell_type": "code",
   "execution_count": null,
   "metadata": {},
   "outputs": [],
   "source": [
    "# Tu solución aquí"
   ]
  },
  {
   "cell_type": "markdown",
   "metadata": {},
   "source": [
    "# Ejercicios funciones\n",
    "## Ejercicio 1\n",
    "Escribe una función que convierta números del 1 al 7 en nombres de los dias de la semana. La función constará de un único argumento numérico y una salida de tipo string"
   ]
  },
  {
   "cell_type": "code",
   "execution_count": 1,
   "metadata": {},
   "outputs": [
    {
     "name": "stdout",
     "output_type": "stream",
     "text": [
      "Martes\n"
     ]
    }
   ],
   "source": [
    "def convertidor(numero:int) -> str:\n",
    "    lista1 = [\"Lunes\", \"Martes\", \"Miercoles\", \"Jueves\", \"Viernes\", \"Sabado\", \"Domingo\"]\n",
    "    return lista1[numero - 1]\n",
    "\n",
    "print(convertidor(2))"
   ]
  },
  {
   "cell_type": "code",
   "execution_count": null,
   "metadata": {},
   "outputs": [],
   "source": []
  },
  {
   "cell_type": "code",
   "execution_count": null,
   "metadata": {},
   "outputs": [],
   "source": []
  },
  {
   "cell_type": "code",
   "execution_count": null,
   "metadata": {},
   "outputs": [],
   "source": []
  },
  {
   "cell_type": "markdown",
   "metadata": {},
   "source": [
    "## Ejercicio 2\n",
    "En el ejercicio 8 de bucles, creábamos una pirámide invertida, cuyo número de pisos venía determinado por un input del usuario. Crea una función que replique el comportamiento de la pirámide, y utiliza un único parámetro de entrada de la función para determinar el número de filas de la pirámide, es decir, elimina la sentencia input."
   ]
  },
  {
   "cell_type": "code",
   "execution_count": 16,
   "metadata": {},
   "outputs": [
    {
     "name": "stdout",
     "output_type": "stream",
     "text": [
      "1\n",
      "2\n",
      "3\n",
      "4\n",
      "5\n",
      "6\n",
      "7\n",
      "8\n",
      "9\n"
     ]
    }
   ],
   "source": [
    "def piramide(pisos):\n",
    "    for i in range(1, pisos, 1):\n",
    "        print(i)\n",
    "\n",
    "piramide(10)\n",
    "\n"
   ]
  },
  {
   "cell_type": "code",
   "execution_count": null,
   "metadata": {},
   "outputs": [],
   "source": []
  },
  {
   "cell_type": "markdown",
   "metadata": {},
   "source": [
    "## Ejercicio 3\n",
    "Escibe una función que compare dos números. La función tiene dos argumentos y hay tres salidas posibles: que sean iguales, que el primero se  mayor que el segundo, o que el segundo sea mayor que el primero"
   ]
  },
  {
   "cell_type": "code",
   "execution_count": null,
   "metadata": {},
   "outputs": [],
   "source": []
  },
  {
   "cell_type": "code",
   "execution_count": null,
   "metadata": {},
   "outputs": [],
   "source": []
  },
  {
   "cell_type": "code",
   "execution_count": null,
   "metadata": {},
   "outputs": [],
   "source": []
  },
  {
   "cell_type": "code",
   "execution_count": null,
   "metadata": {},
   "outputs": [],
   "source": []
  },
  {
   "cell_type": "markdown",
   "metadata": {},
   "source": [
    "## Ejercicio 4\n",
    "Escribe una función que sea un contador de letras. En el primer argumento tienes que introducir un texto, y el segundo que sea la letra a contar. La función tiene que devolver un entero con el número de veces que aparece esa letra, tanto mayuscula, como minúscula"
   ]
  },
  {
   "cell_type": "code",
   "execution_count": 13,
   "metadata": {},
   "outputs": [
    {
     "name": "stdout",
     "output_type": "stream",
     "text": [
      "7\n"
     ]
    }
   ],
   "source": [
    "import re\n",
    "\n",
    "def contador(texto, letra):\n",
    "    return len(re.findall(letra, texto, re.I))\n",
    "\n",
    "print(contador(\"hHhhola  hh h \", \"h\"))"
   ]
  },
  {
   "cell_type": "code",
   "execution_count": null,
   "metadata": {},
   "outputs": [],
   "source": []
  },
  {
   "cell_type": "markdown",
   "metadata": {},
   "source": [
    "## Ejercicio 5\n",
    "Escribe una función que tenga un único argumento, un string. La salida de la función tiene que ser un diccionario con el conteo de todas las letras de ese string."
   ]
  },
  {
   "cell_type": "code",
   "execution_count": 20,
   "metadata": {},
   "outputs": [
    {
     "name": "stdout",
     "output_type": "stream",
     "text": [
      "{'h': 1, 'o': 1, 'l': 3, 'a': 1}\n"
     ]
    }
   ],
   "source": [
    "\n",
    "def conteo(cadena):\n",
    "    dicccionario = {}\n",
    "    for i in cadena:\n",
    "        if i in dicccionario.keys():\n",
    "            dicccionario[i] = dicccionario[i] + 1\n",
    "        else:\n",
    "            dicccionario[i] = 1\n",
    "    return dicccionario\n",
    "\n",
    "print(conteo(\"hola\"))"
   ]
  },
  {
   "cell_type": "code",
   "execution_count": null,
   "metadata": {},
   "outputs": [],
   "source": []
  },
  {
   "cell_type": "code",
   "execution_count": null,
   "metadata": {},
   "outputs": [],
   "source": []
  },
  {
   "cell_type": "code",
   "execution_count": null,
   "metadata": {},
   "outputs": [],
   "source": []
  },
  {
   "cell_type": "markdown",
   "metadata": {},
   "source": [
    "## Ejercicio 6\n",
    "Escribir una función que añada o elimine elementos en una lista. La función necesita los siguientes argumentos:\n",
    "* lista: la lista donde se añadirán o eliminarán los elementos\n",
    "* comando: \"add\" o \"remove\"\n",
    "* elemento: Por defecto es None."
   ]
  },
  {
   "cell_type": "code",
   "execution_count": 39,
   "metadata": {},
   "outputs": [
    {
     "name": "stdout",
     "output_type": "stream",
     "text": [
      "[1, 2, 3, 5]\n"
     ]
    }
   ],
   "source": [
    "def añadir(lista, addOrEemove, elemento = None):\n",
    "    if type(elemento) != type([]): # Esto es necesario para que podamos aceptar un numero o una lista\n",
    "        numero = elemento\n",
    "        elemento = list()\n",
    "        elemento.append(numero)\n",
    "\n",
    "    if addOrEemove == \"add\":\n",
    "        for i in elemento:\n",
    "            lista.append(i)\n",
    "    elif addOrEemove == \"remove\":\n",
    "        for j in elemento:\n",
    "            lista.remove(j)\n",
    "    else:\n",
    "        print(\"Algo salio mal\")\n",
    "    return lista\n",
    "\n",
    "print(añadir([1,2,3,4,5], \"remove\", 4)) # Podemos añadir un numero o una lista"
   ]
  },
  {
   "cell_type": "code",
   "execution_count": null,
   "metadata": {},
   "outputs": [],
   "source": []
  },
  {
   "cell_type": "code",
   "execution_count": null,
   "metadata": {},
   "outputs": [],
   "source": []
  },
  {
   "cell_type": "markdown",
   "metadata": {},
   "source": [
    "## Ejercicio 7\n",
    "Crea una función que reciba un número arbitrario de palabras, y devuelva una frase completa, separando las palabras con espacios."
   ]
  },
  {
   "cell_type": "code",
   "execution_count": 42,
   "metadata": {},
   "outputs": [
    {
     "name": "stdout",
     "output_type": "stream",
     "text": [
      "Hola Pablo Como estas\n"
     ]
    }
   ],
   "source": [
    "def palabras(*args):\n",
    "    return \" \".join(args)\n",
    "\n",
    "print(palabras(\"Hola\", \"Pablo\", \"Como\", \"estas\"))"
   ]
  },
  {
   "cell_type": "code",
   "execution_count": null,
   "metadata": {},
   "outputs": [],
   "source": []
  },
  {
   "cell_type": "markdown",
   "metadata": {},
   "source": [
    "## Ejercicio 8\n",
    "Escribe un programa que obtenga el enésimo número de la [serie de Fibonacci](https://es.wikipedia.org/wiki/Sucesi%C3%B3n_de_Fibonacci). Tienes que crear una función recursiva con un único argumento.\n",
    "\n",
    "```Python\n",
    "fibonacci(2) = 1\n",
    "fibonacci(4) = 3\n",
    "fibonacci(5) = 5\n",
    "fibonacci(8) = 21\n",
    "```"
   ]
  },
  {
   "cell_type": "code",
   "execution_count": 45,
   "metadata": {},
   "outputs": [
    {
     "name": "stdout",
     "output_type": "stream",
     "text": [
      "1\n",
      "3\n",
      "5\n",
      "21\n"
     ]
    }
   ],
   "source": [
    "def fibonacci():\n",
    "    lista_fibo = []\n",
    "    primer_numero = 0\n",
    "    segundo_numero = 1\n",
    "    for i in range(1, 101):\n",
    "        lista_fibo.append(primer_numero)\n",
    "        numero_nuevo = primer_numero + segundo_numero\n",
    "        primer_numero = segundo_numero\n",
    "        segundo_numero = numero_nuevo \n",
    "    return lista_fibo\n",
    "\n",
    "def buscar_fibonacci(numero):\n",
    "    return fibonacci()[numero]\n",
    "\n",
    "print(buscar_fibonacci(2))\n",
    "print(buscar_fibonacci(4))\n",
    "print(buscar_fibonacci(5))\n",
    "print(buscar_fibonacci(8))\n"
   ]
  },
  {
   "cell_type": "code",
   "execution_count": null,
   "metadata": {},
   "outputs": [],
   "source": []
  },
  {
   "cell_type": "markdown",
   "metadata": {},
   "source": [
    "## Ejercicio 9\n",
    "Define en una única celda las siguientes funciones:\n",
    "* Función que calcule el área de un cuadrado\n",
    "* Función que calcule el area de un triángulo\n",
    "* Función que calcule el área de un círculo\n",
    "\n",
    "En otra celda, calcular el area de:\n",
    "* Dos círculos de radio 10 + un triángulo de base 3 y altura 7\n",
    "* Un cuadrado de lado = 10 + 3 círculos (uno de radio = 4 y los otros dos de radio = 6) + 5 triángulos de base = 2 + altura = 4"
   ]
  },
  {
   "cell_type": "code",
   "execution_count": null,
   "metadata": {},
   "outputs": [],
   "source": [
    "from math import pi as PI, pow\n",
    "\n",
    "def area_cuadrado(a):\n",
    "    return a*a\n",
    "\n",
    "def area_triangulo(a, b):\n",
    "    return (a*b)/2\n",
    "\n",
    "def area_circulo(r):\n",
    "    return 4*PI*pow(r)\n",
    "\n"
   ]
  },
  {
   "cell_type": "code",
   "execution_count": null,
   "metadata": {},
   "outputs": [],
   "source": []
  },
  {
   "cell_type": "code",
   "execution_count": null,
   "metadata": {},
   "outputs": [],
   "source": []
  },
  {
   "cell_type": "code",
   "execution_count": null,
   "metadata": {},
   "outputs": [],
   "source": []
  },
  {
   "cell_type": "code",
   "execution_count": null,
   "metadata": {},
   "outputs": [],
   "source": []
  }
 ],
 "metadata": {
  "kernelspec": {
   "display_name": "Python 3",
   "language": "python",
   "name": "python3"
  },
  "language_info": {
   "codemirror_mode": {
    "name": "ipython",
    "version": 3
   },
   "file_extension": ".py",
   "mimetype": "text/x-python",
   "name": "python",
   "nbconvert_exporter": "python",
   "pygments_lexer": "ipython3",
   "version": "3.12.1"
  }
 },
 "nbformat": 4,
 "nbformat_minor": 4
}
