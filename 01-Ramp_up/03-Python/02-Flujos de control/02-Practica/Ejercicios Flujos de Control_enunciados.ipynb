{
 "cells": [
  {
   "cell_type": "markdown",
   "metadata": {},
   "source": [
    "![imagen](./img/espectadores.jpg)"
   ]
  },
  {
   "cell_type": "markdown",
   "metadata": {},
   "source": [
    "<table align=\"left\">\n",
    " <tr><td width=\"80\"><img src=\"./img/ejercicio.png\" style=\"width:auto;height:auto\"></td>\n",
    "     <td style=\"text-align:left\">\n",
    "         <h3>Ejercicio if/else</h3>\n",
    "\n",
    "El ejemplo de las notas está muy bien, pero demasiado sencillo. ¿Qué pasa si la nota es mayor de 10 o menor que 0? No parece una nota correcta. En programación hay que anticiparse a los errores. Reescribe el código para tener en cuenta esos casos, cuya nota tendrás que catalogarla como \"Nota errónea\"\n",
    "         \n",
    " </td></tr>\n",
    "</table>"
   ]
  },
  {
   "cell_type": "code",
   "execution_count": null,
   "metadata": {},
   "outputs": [],
   "source": [
    "notas_clase = [4,5,7,3,4,6,5,5,4,5,6,7,8,7,6,4,6,5,5,4,5,6]"
   ]
  },
  {
   "cell_type": "code",
   "execution_count": null,
   "metadata": {},
   "outputs": [],
   "source": [
    "# Celda para introducir tu respuesta"
   ]
  },
  {
   "cell_type": "code",
   "execution_count": null,
   "metadata": {},
   "outputs": [],
   "source": [
    "# Celda para tu respuesta"
   ]
  },
  {
   "cell_type": "markdown",
   "metadata": {},
   "source": [
    "<table align=\"left\">\n",
    " <tr><td width=\"80\"><img src=\"./img/ejercicio.png\" style=\"width:auto;height:auto\"></td>\n",
    "     <td style=\"text-align:left\">\n",
    "         <h3>Ejercicio bucle for</h3>\n",
    "\n",
    "Recorre la siguiente lista con un for, imprime únicamente los elementos múltiplos de 3, así como el índice que tengan dentro de la lista\n",
    "         \n",
    " </td></tr>\n",
    "</table>"
   ]
  },
  {
   "cell_type": "markdown",
   "metadata": {},
   "source": [
    "# Ejercicios Flujos de control"
   ]
  },
  {
   "cell_type": "markdown",
   "metadata": {},
   "source": [
    "## Ejercicio 1\n",
    "Declara una variable numérica que será una hora cualquiera del día. Implementa mediante sentencias `if/elif/else` la siguiente casuística:\n",
    "\n",
    "* Si es entre las 0 y las 8, print \"Durmiendo\"\n",
    "* Si es entre las 9 y las 18, print \"Trabajando\"\n",
    "* Si es entre las 19 y las 21, print \"Clase\"\n",
    "* Si es entre las 22 y las 24, print \"Descanso\"\n",
    "* En cualquier otro caso, print \"Transporte o error\""
   ]
  },
  {
   "cell_type": "code",
   "execution_count": 2,
   "metadata": {},
   "outputs": [
    {
     "name": "stdout",
     "output_type": "stream",
     "text": [
      "Durmiendo\n"
     ]
    }
   ],
   "source": [
    "def horas():\n",
    "    try:\n",
    "        tiempo_actual = int(input(\"¿Que hora es? \"))\n",
    "    except:\n",
    "        print(\"Introdujo la hora mal\")\n",
    "\n",
    "    if tiempo_actual<=8 and tiempo_actual>=0:\n",
    "        print(\"Durmiendo\")\n",
    "    elif tiempo_actual<=18 and tiempo_actual>=9:\n",
    "        print(\"Trabajando\")\n",
    "    elif tiempo_actual<=21 and tiempo_actual>=19:\n",
    "        print(\"Clase\")\n",
    "    elif tiempo_actual<=24 and tiempo_actual>=22:\n",
    "        print(\"Descanso\")\n",
    "    else:\n",
    "        print(\"Transporte o error\")\n",
    "\n",
    "horas()"
   ]
  },
  {
   "cell_type": "markdown",
   "metadata": {},
   "source": [
    "## Ejercicio 2\n",
    "En este ejercicio vamos a implementar un calculador de precios de casas muy sencillo. Tenemos las siguientes variables:\n",
    "\n",
    "> superficie\n",
    ">\n",
    "> distrito\n",
    "\n",
    "Implementa mediante sentencias `if/elif/else` la siguiente casuística:\n",
    "\n",
    "1. Si el distrito es \"Moncloa\" o \"Centro\", y además la superficie es superior a 100 metros cuadrados, el precio de la casa es de 1000\n",
    "2. Si el distrito es \"Salamanca\", y además la superficie de la casa es al menos de 150 metros, el precio de la casa es de 1500\n",
    "3. Si el distrito no es \"Retiro\" y la superficie está entre 60 y 80 metros, el precio es de 600\n",
    "4. En cualquier otro caso, el precio será de 0"
   ]
  },
  {
   "cell_type": "code",
   "execution_count": 8,
   "metadata": {},
   "outputs": [
    {
     "ename": "ValueError",
     "evalue": "could not convert string to float: ''",
     "output_type": "error",
     "traceback": [
      "\u001b[1;31m---------------------------------------------------------------------------\u001b[0m",
      "\u001b[1;31mValueError\u001b[0m                                Traceback (most recent call last)",
      "Cell \u001b[1;32mIn[8], line 14\u001b[0m\n\u001b[0;32m     11\u001b[0m     \u001b[38;5;28;01melse\u001b[39;00m:\n\u001b[0;32m     12\u001b[0m         \u001b[38;5;28mprint\u001b[39m(\u001b[38;5;124m\"\u001b[39m\u001b[38;5;124mEl precio de su casa es de 0\u001b[39m\u001b[38;5;124m\"\u001b[39m)\n\u001b[1;32m---> 14\u001b[0m \u001b[43mcalculadora_de_precios\u001b[49m\u001b[43m(\u001b[49m\u001b[43m)\u001b[49m\n",
      "Cell \u001b[1;32mIn[8], line 3\u001b[0m, in \u001b[0;36mcalculadora_de_precios\u001b[1;34m()\u001b[0m\n\u001b[0;32m      1\u001b[0m \u001b[38;5;28;01mdef\u001b[39;00m \u001b[38;5;21mcalculadora_de_precios\u001b[39m():\n\u001b[0;32m      2\u001b[0m     distrito \u001b[38;5;241m=\u001b[39m \u001b[38;5;28minput\u001b[39m(\u001b[38;5;124m\"\u001b[39m\u001b[38;5;124m¿En que distrito?\u001b[39m\u001b[38;5;124m\"\u001b[39m)\u001b[38;5;241m.\u001b[39mlower()\n\u001b[1;32m----> 3\u001b[0m     metros \u001b[38;5;241m=\u001b[39m \u001b[38;5;28;43mfloat\u001b[39;49m\u001b[43m(\u001b[49m\u001b[38;5;28;43minput\u001b[39;49m\u001b[43m(\u001b[49m\u001b[38;5;124;43m\"\u001b[39;49m\u001b[38;5;124;43msuperficie de la casa \u001b[39;49m\u001b[38;5;124;43m\"\u001b[39;49m\u001b[43m)\u001b[49m\u001b[43m)\u001b[49m\n\u001b[0;32m      5\u001b[0m     \u001b[38;5;28;01mif\u001b[39;00m (distrito \u001b[38;5;241m==\u001b[39m \u001b[38;5;124m\"\u001b[39m\u001b[38;5;124mmoncloa\u001b[39m\u001b[38;5;124m\"\u001b[39m \u001b[38;5;129;01mor\u001b[39;00m \u001b[38;5;124m\"\u001b[39m\u001b[38;5;124mcentro\u001b[39m\u001b[38;5;124m\"\u001b[39m) \u001b[38;5;129;01mand\u001b[39;00m metros \u001b[38;5;241m>\u001b[39m \u001b[38;5;241m100\u001b[39m:\n\u001b[0;32m      6\u001b[0m         \u001b[38;5;28mprint\u001b[39m(\u001b[38;5;124m\"\u001b[39m\u001b[38;5;124mEl precio de su casa es de 1000\u001b[39m\u001b[38;5;124m\"\u001b[39m)\n",
      "\u001b[1;31mValueError\u001b[0m: could not convert string to float: ''"
     ]
    }
   ],
   "source": [
    "def calculadora_de_precios():\n",
    "    distrito = input(\"¿En que distrito?\").lower()\n",
    "    metros = float(input(\"superficie de la casa \"))\n",
    "\n",
    "    if (distrito == \"moncloa\" or \"centro\") and metros > 100:\n",
    "        print(\"El precio de su casa es de 1000\")\n",
    "    elif distrito == \"salamanca\" and metros >= 150:\n",
    "        print(\"El precio de su casa es de 1500\")\n",
    "    elif distrito != \"retiro\" and (metros>60 and metros<80):\n",
    "        print(\"El precio de su casa es de 600\")\n",
    "    else:\n",
    "        print(\"El precio de su casa es de 0\")\n",
    "\n",
    "calculadora_de_precios()\n"
   ]
  },
  {
   "cell_type": "markdown",
   "metadata": {},
   "source": [
    "## Ejercicio 3\n",
    "En este ejercicio vamos a realizar un programa muy parecido. Para este caso queremos que se cumplan las siguientes condiciones:\n",
    "\n",
    "1. Primero se compruebe si el distrito es \"Retiro\". Si es asi, que imprima \"Distrito Retiro\", y si no, \"Otro distrito\"\n",
    "2. Si el distrito es \"Retiro\", comprueba si si la superficie es mayor de 100 metros cuadrados. En tal caso, que imprima un precio de 1000, y si no, de 500.\n",
    "\n",
    "Hay que usar `ifs` anidados"
   ]
  },
  {
   "cell_type": "code",
   "execution_count": 9,
   "metadata": {},
   "outputs": [
    {
     "name": "stdout",
     "output_type": "stream",
     "text": [
      "Distrito Retiro\n",
      "El precio de su casa es de 1000\n"
     ]
    }
   ],
   "source": [
    "def calculadora_de_precios2():\n",
    "    distrito = input(\"¿En que distrito?\").lower()\n",
    "    metros = float(input(\"superficie de la casa \"))\n",
    "\n",
    "    if distrito == \"retiro\":\n",
    "        print(\"Distrito Retiro\")\n",
    "        if metros > 100:\n",
    "            print(\"El precio de su casa es de 1000\")\n",
    "        else:\n",
    "            print(\"El precio de su casa es de 500\")\n",
    "    else:\n",
    "        print(\"Otro distrito\")\n",
    "\n",
    "calculadora_de_precios2()\n"
   ]
  },
  {
   "cell_type": "markdown",
   "metadata": {},
   "source": [
    "## Ejercicio 4\n",
    "Escribe un programa que tenga dos variables: un numero, y una lista numérica. El programa debe recorrer la lista e imprimir por pantalla cada elemento de la lista multiplicado por el número"
   ]
  },
  {
   "cell_type": "code",
   "execution_count": 10,
   "metadata": {},
   "outputs": [
    {
     "name": "stdout",
     "output_type": "stream",
     "text": [
      "3\n",
      "6\n",
      "9\n",
      "12\n",
      "15\n"
     ]
    }
   ],
   "source": [
    "numero = 3\n",
    "lista_numerica = [1,2,3,4,5]\n",
    "\n",
    "for i in lista_numerica:\n",
    "    print(numero * i)"
   ]
  },
  {
   "cell_type": "markdown",
   "metadata": {},
   "source": [
    "## Ejercicio 5\n",
    "Imprime por pantalla cada número del -10 al -1. En ese orden. Consulta [la documentación](https://www.w3schools.com/python/ref_func_range.asp) de `range`"
   ]
  },
  {
   "cell_type": "code",
   "execution_count": 12,
   "metadata": {},
   "outputs": [
    {
     "name": "stdout",
     "output_type": "stream",
     "text": [
      "-10\n",
      "-9\n",
      "-8\n",
      "-7\n",
      "-6\n",
      "-5\n",
      "-4\n",
      "-3\n",
      "-2\n",
      "-1\n"
     ]
    }
   ],
   "source": [
    "for i in range(-10, 0):\n",
    "    print(i)"
   ]
  },
  {
   "cell_type": "markdown",
   "metadata": {},
   "source": [
    "## Ejercicio 6\n",
    "Dada la siguiente lista:\n",
    "\n",
    "> list1 = [12, 15, 32, 42, 55, 75, 122, 132, 150, 180, 200]\n",
    "\n",
    "Implementa un programa que los recorra e imprima por pantalla todos los divisibles por 5. Si nos encontramos con alguno que sea mayor que 150, detener el bucle."
   ]
  },
  {
   "cell_type": "code",
   "execution_count": 15,
   "metadata": {},
   "outputs": [
    {
     "name": "stdout",
     "output_type": "stream",
     "text": [
      "El numero 15 es divisible entre 5\n",
      "El numero 55 es divisible entre 5\n",
      "El numero 75 es divisible entre 5\n",
      "El numero 150 es divisible entre 5\n"
     ]
    }
   ],
   "source": [
    "list1 = [12, 15, 32, 42, 55, 75, 122, 132, 150, 180, 200]\n",
    "\n",
    "for elemento in list1:\n",
    "    if elemento % 5 == 0 and elemento<=150:\n",
    "        print(f\"El numero {elemento} es divisible entre 5\")\n",
    "    elif elemento >150:\n",
    "        break\n",
    "    "
   ]
  },
  {
   "cell_type": "markdown",
   "metadata": {},
   "source": [
    "## Ejercicio 7\n",
    "Escribe un programa en Python que imprima por pantalla todos los números divisibles por 5 y divisibles por 7, dentro del rango de valores (150, 350)"
   ]
  },
  {
   "cell_type": "code",
   "execution_count": 16,
   "metadata": {},
   "outputs": [
    {
     "name": "stdout",
     "output_type": "stream",
     "text": [
      "150\n",
      "154\n",
      "155\n",
      "160\n",
      "161\n",
      "165\n",
      "168\n",
      "170\n",
      "175\n",
      "180\n",
      "182\n",
      "185\n",
      "189\n",
      "190\n",
      "195\n",
      "196\n",
      "200\n",
      "203\n",
      "205\n",
      "210\n",
      "215\n",
      "217\n",
      "220\n",
      "224\n",
      "225\n",
      "230\n",
      "231\n",
      "235\n",
      "238\n",
      "240\n",
      "245\n",
      "250\n",
      "252\n",
      "255\n",
      "259\n",
      "260\n",
      "265\n",
      "266\n",
      "270\n",
      "273\n",
      "275\n",
      "280\n",
      "285\n",
      "287\n",
      "290\n",
      "294\n",
      "295\n",
      "300\n",
      "301\n",
      "305\n",
      "308\n",
      "310\n",
      "315\n",
      "320\n",
      "322\n",
      "325\n",
      "329\n",
      "330\n",
      "335\n",
      "336\n",
      "340\n",
      "343\n",
      "345\n",
      "350\n"
     ]
    }
   ],
   "source": [
    "for i in range(150, 351):\n",
    "    if i % 5 == 0 or i % 7 == 0:\n",
    "        print(i)"
   ]
  },
  {
   "cell_type": "markdown",
   "metadata": {},
   "source": [
    "## Ejercicio 8\n",
    "Implementa un programa que imprima por pantalla el siguiente patrón\n",
    "\n",
    "5 4 3 2 1 \n",
    "\n",
    "4 3 2 1 \n",
    "\n",
    "3 2 1 \n",
    "\n",
    "2 1 \n",
    "\n",
    "1\n",
    "\n",
    "NOTA: NO hay lineas en blanco entre una línea y otra."
   ]
  },
  {
   "cell_type": "code",
   "execution_count": null,
   "metadata": {},
   "outputs": [],
   "source": []
  },
  {
   "cell_type": "markdown",
   "metadata": {},
   "source": [
    "## Ejercicio 9\n",
    "En este ejercicio vamos a crear un pequeño juego. Se trata de intentar adivinar un numero del 1 al 5. Tenemos dos intentos para acertar. Pasos a seguir:\n",
    "\n",
    "1. Ya viene implementado cómo obtener un número aleatorio del 1 al 5\n",
    "2. Tendrás que declarar en una variable el numero de vidas, y mediante un bucle while, comprobar que todavia quedan vidas.\n",
    "3. Dentro del bucle, obtener el valor del usuario y comprobar si es ese el numero a adivinar. Si no, actualizar las vidas.\n",
    "4. Si acertamos, salimos del bucle e imprimimos por pantalla \"You win\". Y si perdemos también salimos del bucle, pero en este caso imprimimos por pantalla \"You lose\".\n",
    "\n",
    "TIP: te puede resultar útil usar la sentencia `else` cuando acabe el bucle `while`. Lo que haya dentro de ese `else` se ejecutará una vez acabe la ejecución del `while`. Lo podrás usar para cuando pierdas."
   ]
  },
  {
   "cell_type": "code",
   "execution_count": null,
   "metadata": {},
   "outputs": [],
   "source": []
  }
 ],
 "metadata": {
  "kernelspec": {
   "display_name": "Python 3",
   "language": "python",
   "name": "python3"
  },
  "language_info": {
   "codemirror_mode": {
    "name": "ipython",
    "version": 3
   },
   "file_extension": ".py",
   "mimetype": "text/x-python",
   "name": "python",
   "nbconvert_exporter": "python",
   "pygments_lexer": "ipython3",
   "version": "3.12.1"
  }
 },
 "nbformat": 4,
 "nbformat_minor": 4
}
