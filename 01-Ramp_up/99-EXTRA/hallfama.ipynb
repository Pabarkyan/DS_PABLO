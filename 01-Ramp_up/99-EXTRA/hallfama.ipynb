{
 "cells": [
  {
   "cell_type": "markdown",
   "metadata": {},
   "source": [
    "# HALL DE LA FAMA \n",
    "### PARA LO QUE YO HE APRENDIDO DE VOSOTROS\n",
    "### PARA LO QUE NO SUPE RESPONDER\n",
    "### PARA LO QUE RESPONDÍ MAL\n",
    "\n",
    "![imagen](img/overtime.gif)"
   ]
  },
  {
   "cell_type": "markdown",
   "metadata": {},
   "source": [
    "# MARKDOWN"
   ]
  },
  {
   "cell_type": "markdown",
   "metadata": {},
   "source": [
    "Subrayamos usando la etiquetas <u>\\<u>Texto subrayado aquí\\</u></u>"
   ]
  },
  {
   "cell_type": "markdown",
   "metadata": {},
   "source": [
    "Podemos usar \\<br> para añadir saltos de línea:<br>\n",
    "Salto \n",
    "<br><br>\n",
    "De\n",
    "<br><br><br>\n",
    "Línea"
   ]
  },
  {
   "cell_type": "markdown",
   "metadata": {},
   "source": [
    "Usamos un doble dólar para centrar las fórmulas:\n",
    "* El primer dólar da formato de fórmula\n",
    "* El segundo dólar centra la misma\n",
    "\n",
    "$$e^{i\\pi} + 1 = 0$$"
   ]
  },
  {
   "cell_type": "markdown",
   "metadata": {},
   "source": [
    "# PYTHON"
   ]
  },
  {
   "cell_type": "markdown",
   "metadata": {},
   "source": [
    "## CASTING\n",
    "### La conversion de un float en entero es similar a la operación truncar "
   ]
  },
  {
   "cell_type": "code",
   "execution_count": null,
   "metadata": {},
   "outputs": [],
   "source": [
    "print(int(15.8))\n",
    "print(int(-15.8))"
   ]
  },
  {
   "cell_type": "markdown",
   "metadata": {},
   "source": [
    "## Si usamos números negativos en el segundo argumento de la función **round()** redondeamos a las decenas, centenas..."
   ]
  },
  {
   "cell_type": "code",
   "execution_count": null,
   "metadata": {},
   "outputs": [],
   "source": [
    "num  = 371.267\n",
    "print(round(num, 2))\n",
    "print(round(num, 1))\n",
    "print(round(num, 0))"
   ]
  },
  {
   "cell_type": "code",
   "execution_count": null,
   "metadata": {},
   "outputs": [],
   "source": [
    "print(round(num, -1))\n",
    "print(round(num, -2))"
   ]
  },
  {
   "cell_type": "markdown",
   "metadata": {},
   "source": [
    "## CONSTANTES\n",
    "No existen constantes (variable inmutable, que no puede cambiar los datos incluídos en la misma) en python __vainilla__, pero las nombras no escritas dictan usar mayúsculas en el nombre de la variable para indicar que, a los efectos, será constante:"
   ]
  },
  {
   "cell_type": "code",
   "execution_count": null,
   "metadata": {},
   "outputs": [],
   "source": [
    "# Las normas no escritas de las programación en Python con \"estilo y buen gusto\", dicen que las constantes se declaran en mayúsculas\n",
    "MI_CONSTANTE = 42\n"
   ]
  },
  {
   "cell_type": "markdown",
   "metadata": {},
   "source": [
    "### No obstante, nada impide cambiar su valor, no será un error de código. \n",
    "\n",
    "Aunque esta será mi reacción cuando vea tu código:\n",
    "\n",
    "\n",
    "![imagen](img/saza.jpg)\n",
    "\n"
   ]
  },
  {
   "cell_type": "code",
   "execution_count": null,
   "metadata": {},
   "outputs": [],
   "source": [
    "\n",
    "MI_CONSTANTE = 43\n",
    "print(MI_CONSTANTE)"
   ]
  },
  {
   "cell_type": "markdown",
   "metadata": {},
   "source": [
    "Adicionalmente, puedes importar una libreria que al menos te sugiera amablemente que no lo hagas. "
   ]
  },
  {
   "cell_type": "code",
   "execution_count": null,
   "metadata": {},
   "outputs": [],
   "source": [
    "from typing import Final\n",
    "\n",
    "my_constante: Final[int] = 1\n",
    "print(my_constante)\n",
    "my_constante = 2\n",
    "print(my_constante)"
   ]
  },
  {
   "cell_type": "markdown",
   "metadata": {},
   "source": [
    "## BORRAR LAS VARIABLES EN MEMORIA (Y NO ES DEL)\n",
    "\n",
    "Puedes borrar todas las variables definidas en tu notebook usando el comando especial *%reset*\n",
    "\n",
    "Suele ser útil, antes de dar por finalizado nuestro código, borrar toda la memoria de la sesión y volver a ejecutar nuestro código para compromar si sigue funcionando.\n",
    "\n",
    "Si una vez reseteadas nuestras variables, nuestro código no funciona, puede deberse a: \n",
    "\n",
    "* Se borró la asignación de una variable pero dicha variable se usa\n",
    "* Una variable cambió de nombre pero no corregiste el nuevo nombre en todo el código\n",
    "* El código no es secuencial (tienes que ejecutar las celdas en orden para que funcione correctamente)\n",
    "* Otras...\n"
   ]
  },
  {
   "cell_type": "code",
   "execution_count": null,
   "metadata": {},
   "outputs": [],
   "source": [
    "existo_como_variable = 1212\n",
    "print(existo_como_variable)"
   ]
  },
  {
   "cell_type": "code",
   "execution_count": null,
   "metadata": {},
   "outputs": [],
   "source": [
    "%reset\n",
    "print(existo_como_variable)"
   ]
  },
  {
   "cell_type": "markdown",
   "metadata": {},
   "source": [
    "## EFECTO CADENA\n",
    "\n",
    "[Piensalo así](https://www.youtube.com/watch?v=OACZnce2cw8)"
   ]
  },
  {
   "cell_type": "code",
   "execution_count": null,
   "metadata": {},
   "outputs": [],
   "source": [
    "# Es normal sentirse abrumando por el nesting a principio. Puedes hacerlo paso a paso, si te ayuda...\n",
    "# Pero hay que acostumbrarse a ver código anidado, entenderlo y escribirlo.\n",
    "\n",
    "print(type(int(4/3)))\n",
    "\n",
    "paso_1 = 4/3\n",
    "paso_2 = int(paso_1)\n",
    "paso_3 = type(paso_2)\n",
    "print(paso_3)"
   ]
  },
  {
   "cell_type": "markdown",
   "metadata": {},
   "source": [
    "<table align=\"left\">\n",
    " <tr><td width=\"80\"><img src=\"./img/ejercicio.png\" style=\"width:auto;height:auto\"></td>\n",
    "     <td style=\"text-align:left\">\n",
    "         <h3>Ejercicio de funciones built-in</h3>\n",
    "\n",
    "Busca <a href=\"https://docs.python.org/3/library/functions.html\">en la documentación</a> una función __built-in__ que te sirva para ordenar de manera descendente la siguiente lista\n",
    "\n",
    "En [este enlace](https://www.w3schools.com/python/python_ref_list.asp) puedes encontrar todos los métodos que podrás usar con listas. Encuentra uno te sirva para ordenar de manera descendente la siguiente lista\n",
    "         \n",
    " </td></tr>\n",
    "</table>\n",
    "\n"
   ]
  },
  {
   "cell_type": "code",
   "execution_count": null,
   "metadata": {},
   "outputs": [],
   "source": [
    "# Quedó muy confuso! \n",
    "# Utiliza esta celda para responder al ejercicio\n",
    "# Importante: \n",
    "# cuidado cuando las instrucciones requieren asignar de nuevo las variables para conservar los cambios (forma conservadora) temperaturas_sorted = sorted(temperaturas, reverse=True) \n",
    "# cuidado cuando las instrucciones modifican las variables diractemente (forma in place) temperaturas.sort(reverse=True)\n",
    "# Desgraciadamente no hay una forma infalible para saber cuando será conservadora y cuando in place: en caso de duda, experimenta o consulta la documentación\n",
    "temperaturas = [10, 37, 100, 17]\n",
    "temperaturas_sorted = sorted(temperaturas, reverse=True) # Requiere asignar\n",
    "print(temperaturas_sorted)\n",
    "temperaturas.sort(reverse=True) # Modifica la propia variable temperaturas\n",
    "print(temperaturas)"
   ]
  },
  {
   "cell_type": "markdown",
   "metadata": {},
   "source": [
    "# Punto de los miles:"
   ]
  },
  {
   "cell_type": "code",
   "execution_count": null,
   "metadata": {},
   "outputs": [],
   "source": [
    "millon = 1_000_000\n",
    "print(millon)\n",
    "print(f'{millon:,.2f}')\n",
    "print(f'{millon:,.0f}')"
   ]
  },
  {
   "cell_type": "markdown",
   "metadata": {},
   "source": [
    "# ¿Cómo python interpretaría (aprox) una línea de código compleja?"
   ]
  },
  {
   "cell_type": "code",
   "execution_count": null,
   "metadata": {},
   "outputs": [],
   "source": [
    "numero = 24.691739372\n",
    "decimales = 1\n",
    "print(type(int(round(numero, decimales))))\n",
    "\n",
    "# Sustituyendo variables por sus valores y realizando las operaciones desde el paréntesis más interno, al más externo\n",
    "# Paso 1: round(numero, decimales) para python es  round(24.691739372, 1), es decir, 24.7\n",
    "# Paso 2: int(24.7), es decir 25\n",
    "# Paso 3: type(25), es decir, entero\n",
    "# Paso 4 print <class 'int'>"
   ]
  },
  {
   "cell_type": "markdown",
   "metadata": {},
   "source": [
    "# ¿Cómo programaba yo (aprox) una línea de código compleja hace 20 años cuando empezaba en serio a programar (y a veces también ahora?"
   ]
  },
  {
   "cell_type": "code",
   "execution_count": null,
   "metadata": {},
   "outputs": [],
   "source": [
    "# Digamos imprimir por pantalla si la variable numero es de tipo entero y es menor que 40 o mayor que 100\n",
    "numero = 2\n",
    "\n",
    "# Intentaba tener controlados siempre los paréntesis e ir de fuera a dentro (al revés que python):\n",
    "# Paso 1: tengo que imprimir\n",
    "# print(\"\")\n",
    "# Paso 2: una condición and\n",
    "# print(() and ())\n",
    "# Paso 3: primer elemento: numero es tipo entero\n",
    "# print((type(numero) == int) and ())\n",
    "# Paso 4: segundo elemento: or\n",
    "# print((type(numero) == int) and (() or ()))\n",
    "# Paso 5: primer elemento or\n",
    "# print((type(numero) == int) and ((numero<40) or ()))\n",
    "# Paso 6: segundo  elemento or\n",
    "# print((type(numero) == int) and ((numero<40) or (numero>100)))\n",
    "\n",
    "\n",
    "# Hora de testear! (lo ideal seria un bucle for!)\n",
    "\n",
    "numero = 39\n",
    "print((type(numero) == int) and ((numero<40) or (numero>100)))\n",
    "\n",
    "numero = 101\n",
    "print((type(numero) == int) and ((numero<40) or (numero>100)))\n",
    "\n",
    "numero = 101\n",
    "print((type(numero) == int) and ((numero<40) or (numero>100)))\n",
    "\n",
    "numero = 66\n",
    "print((type(numero) == int) and ((numero<40) or (numero>100)))\n",
    "\n",
    "numero = \"101\"\n",
    "print((type(numero) == int) and ((numero<40) or (numero>100)))"
   ]
  }
 ],
 "metadata": {
  "kernelspec": {
   "display_name": "Python 3",
   "language": "python",
   "name": "python3"
  },
  "language_info": {
   "codemirror_mode": {
    "name": "ipython",
    "version": 3
   },
   "file_extension": ".py",
   "mimetype": "text/x-python",
   "name": "python",
   "nbconvert_exporter": "python",
   "pygments_lexer": "ipython3",
   "version": "3.12.1"
  }
 },
 "nbformat": 4,
 "nbformat_minor": 2
}
