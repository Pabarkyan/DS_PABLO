{
 "cells": [
  {
   "cell_type": "markdown",
   "metadata": {},
   "source": [
    "## Ejemplo ramp up: unos 2 puntos\n",
    "#### En las soluciones como yo lo haría para maximizar puntos\n",
    "\n",
    "Dada la lista=[1,3,5,6,7,8]\n",
    "\n",
    "* Permite al usuario tres opciones: 1, 2 y 3.\n",
    "* Si elige 1, devuelve los números pares de la lista\n",
    "* Si elige 2, pide otro número y busca dicho número en la lista\n",
    "* Si elige 3, se acaba el programa. Es decir, si eligió 1 o 2, vuelves a pedir opciones: 1, 2 y 3."
   ]
  },
  {
   "cell_type": "code",
   "execution_count": null,
   "metadata": {},
   "outputs": [],
   "source": [
    "# Paso 1: leer y entender. 3 minutos\n",
    "\n",
    "# Será un input que pida al usuario que introduzca 1, 2, 3\n",
    "# Necesitaremos un if para discriminar 1, 2 o 3\n",
    "# Para 1: un for de números pares. Sin break\n",
    "# Para 1.1: un if para ver si par o no\n",
    "# Para 2: otro input y un for con break o usar in!\n",
    "# Para 2.1 un if si encuentra el número\n",
    "# Para 3: implica que hay un while envolviendo todo y que 3 cumple la condición del while"
   ]
  },
  {
   "cell_type": "code",
   "execution_count": null,
   "metadata": {},
   "outputs": [],
   "source": [
    "# Paso 2: de lo fácil a lo dificil\n",
    "lista=[1,3,5,6,7,8]\n",
    "mensaje = \"Introduzca una opción: 1, 2, 3\"\n",
    "opcion = input(mensaje)\n",
    "print(opcion)"
   ]
  },
  {
   "cell_type": "code",
   "execution_count": null,
   "metadata": {},
   "outputs": [],
   "source": [
    "# Paso 2: de lo fácil a lo dificil\n",
    "lista=[1,3,5,6,7,8]\n",
    "mensaje = \"Introduzca una opción: 1, 2, 3\"\n",
    "opcion = int(input(mensaje))\n",
    "print(opcion)\n",
    "if (opcion == 1):\n",
    "    print(\"Opción 1\")\n",
    "    # Para 1: un for de números pares. Sin break\n",
    "elif (opcion == 2):\n",
    "    print(\"Opción 2\")\n",
    "    # Para 2: otro input y un for con break\n",
    "elif (opcion == 3):\n",
    "    print(\"Opción 3\")\n",
    "    # Para 3: implica que hay un while envolviendo todo y que 3 cumple la condición del while"
   ]
  },
  {
   "cell_type": "code",
   "execution_count": null,
   "metadata": {},
   "outputs": [],
   "source": [
    "# Paso 2: de lo fácil a lo dificil\n",
    "lista=[1,3,5,6,7,8]\n",
    "mensaje = \"Introduzca una opción: 1, 2, 3\"\n",
    "opcion = int(input(mensaje))\n",
    "print(opcion)\n",
    "if (opcion == 1):\n",
    "    # Para 1: un for de números pares. Sin break\n",
    "    print(\"Opción 1\")\n",
    "    for n in lista:\n",
    "        if (n % 2 == 0):\n",
    "            print(n)\n",
    "\n",
    "elif (opcion == 2):\n",
    "    # Para 2: otro input y un for con break\n",
    "    texto = \"Introduzca el numero a buscar\"\n",
    "    busca = int(input(texto))\n",
    "    print(busca)\n",
    "    print(\"Opción 2\")\n",
    "    for n in lista:\n",
    "        if (n == busca):\n",
    "            print(\"Encontrado\")\n",
    "            break\n",
    "        \n",
    "elif (opcion == 3):\n",
    "    # Para 3: implica que hay un while envolviendo todo y que 3 cumple la condición del while\n",
    "    print(\"Opción 3\")\n",
    "    salir = True\n"
   ]
  },
  {
   "cell_type": "code",
   "execution_count": null,
   "metadata": {},
   "outputs": [],
   "source": [
    "# Paso 2: de lo fácil a lo dificil. ALTERNATIVA\n",
    "lista=[1,3,5,6,7,8]\n",
    "mensaje = \"Introduzca una opción: 1, 2, 3\"\n",
    "opcion = int(input(mensaje))\n",
    "print(opcion)\n",
    "if (opcion == 1):\n",
    "    # Para 1: un for de números pares. Sin break\n",
    "    print(\"Opción 1\")\n",
    "    for n in lista:\n",
    "        if (n % 2 == 0):\n",
    "            print(n)\n",
    "\n",
    "elif (opcion == 2):\n",
    "    # Para 2: otro input y un for con break\n",
    "    texto = \"Introduzca el numero a buscar\"\n",
    "    busca = int(input(texto))\n",
    "    print(busca)\n",
    "    print(\"Opción 2\")\n",
    "    print(busca in lista)\n",
    "elif (opcion == 3):\n",
    "   # Para 3: implica que hay un while envolviendo todo y que 3 cumple la condición del while\n",
    "    print(\"Opción 3\")\n",
    "    salir = True"
   ]
  },
  {
   "cell_type": "code",
   "execution_count": null,
   "metadata": {},
   "outputs": [],
   "source": [
    "# Paso 3: lo dificil while\n",
    "lista=[1,3,5,6,7,8]\n",
    "mensaje = \"Introduzca una opción: 1, 2, 3\"\n",
    "\n",
    "salir = False # \n",
    "while (salir == False): # Condicion de salida\n",
    "    opcion = int(input(mensaje))\n",
    "    print(opcion)\n",
    "    if (opcion == 1):\n",
    "        # Para 1: un for de números pares. Sin break\n",
    "        print(\"Opción 1\")\n",
    "        for n in lista:\n",
    "            if (n % 2 == 0):\n",
    "                print(n)\n",
    "\n",
    "    elif (opcion == 2):\n",
    "        # Para 2: otro input y un for con break\n",
    "        texto = \"Introduzca el numero a buscar\"\n",
    "        busca = int(input(texto))\n",
    "        print(busca)\n",
    "        print(\"Opción 2\")\n",
    "        print(busca in lista) # equivalente al for\n",
    "        for n in lista:\n",
    "            if (n == busca):\n",
    "                print(\"Encontrado\")\n",
    "                break\n",
    "    elif (opcion == 3):\n",
    "       # Para 3: implica que hay un while envolviendo todo y que 3 cumple la condición del while\n",
    "        print(\"Opción 3\")\n",
    "        salir = True # actualizar condición de salida"
   ]
  },
  {
   "cell_type": "code",
   "execution_count": null,
   "metadata": {},
   "outputs": [],
   "source": [
    "# Paso 4: los detalles\n",
    "lista=[1,3,5,6,7,8]\n",
    "mensaje = \"Introduzca una opción: 1, 2, 3\" #### ESPECIFICAR MÁS AQUí\n",
    "\n",
    "salir = False # \n",
    "while (salir == False): # Condicion de salida\n",
    "    opcion = int(input(mensaje))\n",
    "    print(opcion)\n",
    "    if (opcion == 1):\n",
    "        # Para 1: un for de números pares. Sin break\n",
    "        print(\"Opción 1\")\n",
    "        for n in lista:\n",
    "            if (n % 2 == 0):\n",
    "                print(n)\n",
    "\n",
    "    elif (opcion == 2):\n",
    "        # Para 2: otro input y un for con break\n",
    "        texto = \"Introduzca el numero a buscar\"\n",
    "        busca = int(input(texto))\n",
    "        print(busca)\n",
    "        print(\"Opción 2\")\n",
    "        print(busca in lista) # equivalente al for\n",
    "        for n in lista: \n",
    "            if (n == busca):\n",
    "                print(\"Encontrado\")\n",
    "                break\n",
    "            if (n == lista[-1]): ## Mensaje no encontrado\n",
    "                print(\"No encontrado\")\n",
    "    elif (opcion == 3):\n",
    "       # Para 3: implica que hay un while envolviendo todo y que 3 cumple la condición del while\n",
    "        print(\"Opción 3\")\n",
    "        salir = True # actualizar condición de salida\n"
   ]
  },
  {
   "cell_type": "markdown",
   "metadata": {},
   "source": [
    "## Ahora probamos nosotros con la sucesión de fibonacci"
   ]
  },
  {
   "cell_type": "code",
   "execution_count": null,
   "metadata": {},
   "outputs": [],
   "source": [
    "# La secuencia de Fibonacci\n",
    "# La secuencia de Fibonacci consiste en los números [0, 1, 1, 2, 3, 5, 8, 13, 21, 34, 55, 89, 144, 233, 377, 610, 987]\n",
    "# Genera los 100 primeros números de la secuencia de Fibonacci partiendo de la lista [0, 1]"
   ]
  }
 ],
 "metadata": {
  "kernelspec": {
   "display_name": "Python 3",
   "language": "python",
   "name": "python3"
  },
  "language_info": {
   "name": "python",
   "version": "3.12.0"
  }
 },
 "nbformat": 4,
 "nbformat_minor": 2
}
